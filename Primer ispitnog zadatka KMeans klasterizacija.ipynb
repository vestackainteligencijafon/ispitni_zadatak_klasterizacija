{
 "cells": [
  {
   "cell_type": "markdown",
   "id": "191f370226cf9d1",
   "metadata": {},
   "source": [
    "# Tekst zadatka\n",
    "\n",
    "U fajlu spotify.csv dati su podaci o najpopularnijim pesmama na Spotify platformi 2023. godine. Varijable dataset-a su:\n",
    "- track_name: naziv pesme\n",
    "- released_year: godina izdanja\n",
    "- in_spotify_playlists: na koliko playlista na spotify platformi se nalazi pesma\n",
    "- in_spotify_charts: pozicije pesme na spotify rang listi\n",
    "- streams: broj puštanja pesme\n",
    "- in_apple_playlists: na koliko playlista na apple platformi se nalazi pesma\n",
    "- in_apple_charts: pozicije pesme na apple rang listi\n",
    "- bpm: mera brzine pesme (beats per minute)\n",
    "- mode: karakter pesme (minor / major)\n",
    "- energy: percipirani energetski nivo pesme\n",
    "- instrumentalness: nivo instrumentalnosti\n",
    "- liveness: nivo prisustva elemenata izvođenja uživo\n",
    "- speechiness: Skalirana količina izgovorenih reči u pesmi\n",
    "\n",
    "Potrebno je uraditi sledeće:\n",
    "1. Napraviti podskup podataka koji ne sadrži pesme čija je skalirana količina izgovorenih reči\n",
    "(speechiness) preko 60. Za sve naredne zahteve zadatka koristiti ovako dobijen dataset.\n",
    "2. Odabrati atribute (promenljive) koji će biti uključeni u model klasterizacije i navesti razlog za njihov odabir ili\n",
    "neodabir.\n",
    "3. U dataset-u dobijenom na osnovu prethodna dva zahteva proveriti da li postoje nedostajuće\n",
    "vrednosti (NA, “-”, ” ”, ili ””) i ako je moguće, zameniti ih adekvatnim vrednostima.\n",
    "Prokomentarisati postupak zamene vrednosti, odnosno zašto je određeni metod zamene\n",
    "vrednosti odabran. Tako dobijeni dataset eventualno dodatno obraditi da bi bio pogodan za\n",
    "primenu metode klasterizacije.\n",
    "4. Primenom Elbow metode utvrditi najbolju vrednost za broj klastera (k)\n",
    "5. Izvršiti klasterizaciju za izabranu (tj. utvrđenu najbolju) vrednost za k.\n",
    "6. Interpretirati dobijene klastere (grupisane pesme) na osnovu: broja pesama po klasteru,\n",
    "centara klastera, disperzije od centra.\n",
    "\n",
    "**NAPOMENE**\n",
    "- U produžetku je prikazano JEDNO moguće tačno rešenje, ali ne i jedino\n",
    "- Dodati su i podnaslovi (headers) između blokova sa kodom da bi se lakše pratio zadatak, ali to nije neophodno uraditi na ispitu\n",
    "- KLJUČNA stvar na ispitu je da se svaki korak objasni kratkim komentarima u kodu, jer inače neće biti priznat pun broj poena"
   ]
  },
  {
   "cell_type": "code",
   "id": "initial_id",
   "metadata": {
    "ExecuteTime": {
     "end_time": "2025-07-02T08:58:46.418235Z",
     "start_time": "2025-07-02T08:58:46.410203Z"
    }
   },
   "source": [
    "import pandas as pd\n",
    "import matplotlib.pyplot as plt\n",
    "import sklearn.cluster as cluster"
   ],
   "outputs": [],
   "execution_count": 147
  },
  {
   "cell_type": "markdown",
   "id": "41ed1de40b6e4a7d",
   "metadata": {},
   "source": [
    "## 1. Napraviti podskup podataka koji ne sadrži pesme čiji je speechiness preko 60"
   ]
  },
  {
   "cell_type": "code",
   "id": "76bad963f9ecc158",
   "metadata": {
    "ExecuteTime": {
     "end_time": "2025-07-02T08:58:46.472417Z",
     "start_time": "2025-07-02T08:58:46.447373Z"
    }
   },
   "source": [
    "data = pd.read_csv('./data/spotify.csv')\n",
    "\n",
    "#Pravimo novi dataset koji sadrži samo pesme čiji speechiness je manji od ili jednak 60\n",
    "cl_data = data[data[\"speechiness\"] <= 60].copy()\n",
    "\n",
    "# Bacimo pogleda na podatke koje imamo\n",
    "cl_data"
   ],
   "outputs": [
    {
     "data": {
      "text/plain": [
       "                              track_name  released_year  in_spotify_playlists  \\\n",
       "0    Seven (feat. Latto) (Explicit Ver.)           2023                   553   \n",
       "1                                   LALA           2023                  1474   \n",
       "2                                vampire           2023                  1397   \n",
       "3                           Cruel Summer           2019                  7858   \n",
       "4                         WHERE SHE GOES           2023                  3133   \n",
       "..                                   ...            ...                   ...   \n",
       "948                         My Mind & Me           2022                   953   \n",
       "949            Bigger Than The Whole Sky           2022                  1180   \n",
       "950                 A Veces (feat. Feid)           2022                   573   \n",
       "951                        En La De Ella           2022                  1320   \n",
       "952                                Alone           2022                   782   \n",
       "\n",
       "    in_spotify_charts    streams  in_apple_playlists  in_apple_charts  bpm  \\\n",
       "0                 147  141381703                  43            263.0  125   \n",
       "1                  48  133716286                  48            126.0   92   \n",
       "2                 113  140003974                  94            207.0  138   \n",
       "3                   -  800840817                 116            207.0  170   \n",
       "4                  50  303236322                  84            133.0  144   \n",
       "..                ...        ...                 ...              ...  ...   \n",
       "948                 0   91473363                  61             13.0  144   \n",
       "949                 0  121871870                   4              0.0  166   \n",
       "950                 0   73513683                   2              0.0   92   \n",
       "951                 0  133895612                  29             26.0   97   \n",
       "952                 2   96007391                  27             18.0   90   \n",
       "\n",
       "      mode  energy  instrumentalness  liveness  speechiness  \n",
       "0    Major      83                 0         8            4  \n",
       "1    Major      74                 0        10            4  \n",
       "2    Major      53                 0        31            6  \n",
       "3    Major      72                 0        11           15  \n",
       "4    Minor      80                63        11            6  \n",
       "..     ...     ...               ...       ...          ...  \n",
       "948  Major      39                 0         8            3  \n",
       "949  Major      24                 1        12            6  \n",
       "950  Major      67                 0         8            6  \n",
       "951  Major      77                 0        12            5  \n",
       "952  Minor      67                 0        11            5  \n",
       "\n",
       "[952 rows x 13 columns]"
      ],
      "text/html": [
       "<div>\n",
       "<style scoped>\n",
       "    .dataframe tbody tr th:only-of-type {\n",
       "        vertical-align: middle;\n",
       "    }\n",
       "\n",
       "    .dataframe tbody tr th {\n",
       "        vertical-align: top;\n",
       "    }\n",
       "\n",
       "    .dataframe thead th {\n",
       "        text-align: right;\n",
       "    }\n",
       "</style>\n",
       "<table border=\"1\" class=\"dataframe\">\n",
       "  <thead>\n",
       "    <tr style=\"text-align: right;\">\n",
       "      <th></th>\n",
       "      <th>track_name</th>\n",
       "      <th>released_year</th>\n",
       "      <th>in_spotify_playlists</th>\n",
       "      <th>in_spotify_charts</th>\n",
       "      <th>streams</th>\n",
       "      <th>in_apple_playlists</th>\n",
       "      <th>in_apple_charts</th>\n",
       "      <th>bpm</th>\n",
       "      <th>mode</th>\n",
       "      <th>energy</th>\n",
       "      <th>instrumentalness</th>\n",
       "      <th>liveness</th>\n",
       "      <th>speechiness</th>\n",
       "    </tr>\n",
       "  </thead>\n",
       "  <tbody>\n",
       "    <tr>\n",
       "      <th>0</th>\n",
       "      <td>Seven (feat. Latto) (Explicit Ver.)</td>\n",
       "      <td>2023</td>\n",
       "      <td>553</td>\n",
       "      <td>147</td>\n",
       "      <td>141381703</td>\n",
       "      <td>43</td>\n",
       "      <td>263.0</td>\n",
       "      <td>125</td>\n",
       "      <td>Major</td>\n",
       "      <td>83</td>\n",
       "      <td>0</td>\n",
       "      <td>8</td>\n",
       "      <td>4</td>\n",
       "    </tr>\n",
       "    <tr>\n",
       "      <th>1</th>\n",
       "      <td>LALA</td>\n",
       "      <td>2023</td>\n",
       "      <td>1474</td>\n",
       "      <td>48</td>\n",
       "      <td>133716286</td>\n",
       "      <td>48</td>\n",
       "      <td>126.0</td>\n",
       "      <td>92</td>\n",
       "      <td>Major</td>\n",
       "      <td>74</td>\n",
       "      <td>0</td>\n",
       "      <td>10</td>\n",
       "      <td>4</td>\n",
       "    </tr>\n",
       "    <tr>\n",
       "      <th>2</th>\n",
       "      <td>vampire</td>\n",
       "      <td>2023</td>\n",
       "      <td>1397</td>\n",
       "      <td>113</td>\n",
       "      <td>140003974</td>\n",
       "      <td>94</td>\n",
       "      <td>207.0</td>\n",
       "      <td>138</td>\n",
       "      <td>Major</td>\n",
       "      <td>53</td>\n",
       "      <td>0</td>\n",
       "      <td>31</td>\n",
       "      <td>6</td>\n",
       "    </tr>\n",
       "    <tr>\n",
       "      <th>3</th>\n",
       "      <td>Cruel Summer</td>\n",
       "      <td>2019</td>\n",
       "      <td>7858</td>\n",
       "      <td>-</td>\n",
       "      <td>800840817</td>\n",
       "      <td>116</td>\n",
       "      <td>207.0</td>\n",
       "      <td>170</td>\n",
       "      <td>Major</td>\n",
       "      <td>72</td>\n",
       "      <td>0</td>\n",
       "      <td>11</td>\n",
       "      <td>15</td>\n",
       "    </tr>\n",
       "    <tr>\n",
       "      <th>4</th>\n",
       "      <td>WHERE SHE GOES</td>\n",
       "      <td>2023</td>\n",
       "      <td>3133</td>\n",
       "      <td>50</td>\n",
       "      <td>303236322</td>\n",
       "      <td>84</td>\n",
       "      <td>133.0</td>\n",
       "      <td>144</td>\n",
       "      <td>Minor</td>\n",
       "      <td>80</td>\n",
       "      <td>63</td>\n",
       "      <td>11</td>\n",
       "      <td>6</td>\n",
       "    </tr>\n",
       "    <tr>\n",
       "      <th>...</th>\n",
       "      <td>...</td>\n",
       "      <td>...</td>\n",
       "      <td>...</td>\n",
       "      <td>...</td>\n",
       "      <td>...</td>\n",
       "      <td>...</td>\n",
       "      <td>...</td>\n",
       "      <td>...</td>\n",
       "      <td>...</td>\n",
       "      <td>...</td>\n",
       "      <td>...</td>\n",
       "      <td>...</td>\n",
       "      <td>...</td>\n",
       "    </tr>\n",
       "    <tr>\n",
       "      <th>948</th>\n",
       "      <td>My Mind &amp; Me</td>\n",
       "      <td>2022</td>\n",
       "      <td>953</td>\n",
       "      <td>0</td>\n",
       "      <td>91473363</td>\n",
       "      <td>61</td>\n",
       "      <td>13.0</td>\n",
       "      <td>144</td>\n",
       "      <td>Major</td>\n",
       "      <td>39</td>\n",
       "      <td>0</td>\n",
       "      <td>8</td>\n",
       "      <td>3</td>\n",
       "    </tr>\n",
       "    <tr>\n",
       "      <th>949</th>\n",
       "      <td>Bigger Than The Whole Sky</td>\n",
       "      <td>2022</td>\n",
       "      <td>1180</td>\n",
       "      <td>0</td>\n",
       "      <td>121871870</td>\n",
       "      <td>4</td>\n",
       "      <td>0.0</td>\n",
       "      <td>166</td>\n",
       "      <td>Major</td>\n",
       "      <td>24</td>\n",
       "      <td>1</td>\n",
       "      <td>12</td>\n",
       "      <td>6</td>\n",
       "    </tr>\n",
       "    <tr>\n",
       "      <th>950</th>\n",
       "      <td>A Veces (feat. Feid)</td>\n",
       "      <td>2022</td>\n",
       "      <td>573</td>\n",
       "      <td>0</td>\n",
       "      <td>73513683</td>\n",
       "      <td>2</td>\n",
       "      <td>0.0</td>\n",
       "      <td>92</td>\n",
       "      <td>Major</td>\n",
       "      <td>67</td>\n",
       "      <td>0</td>\n",
       "      <td>8</td>\n",
       "      <td>6</td>\n",
       "    </tr>\n",
       "    <tr>\n",
       "      <th>951</th>\n",
       "      <td>En La De Ella</td>\n",
       "      <td>2022</td>\n",
       "      <td>1320</td>\n",
       "      <td>0</td>\n",
       "      <td>133895612</td>\n",
       "      <td>29</td>\n",
       "      <td>26.0</td>\n",
       "      <td>97</td>\n",
       "      <td>Major</td>\n",
       "      <td>77</td>\n",
       "      <td>0</td>\n",
       "      <td>12</td>\n",
       "      <td>5</td>\n",
       "    </tr>\n",
       "    <tr>\n",
       "      <th>952</th>\n",
       "      <td>Alone</td>\n",
       "      <td>2022</td>\n",
       "      <td>782</td>\n",
       "      <td>2</td>\n",
       "      <td>96007391</td>\n",
       "      <td>27</td>\n",
       "      <td>18.0</td>\n",
       "      <td>90</td>\n",
       "      <td>Minor</td>\n",
       "      <td>67</td>\n",
       "      <td>0</td>\n",
       "      <td>11</td>\n",
       "      <td>5</td>\n",
       "    </tr>\n",
       "  </tbody>\n",
       "</table>\n",
       "<p>952 rows × 13 columns</p>\n",
       "</div>"
      ]
     },
     "execution_count": 148,
     "metadata": {},
     "output_type": "execute_result"
    }
   ],
   "execution_count": 148
  },
  {
   "cell_type": "markdown",
   "id": "8df0495380ab0c77",
   "metadata": {},
   "source": [
    "## 2. Odabrati atribute (promenljive) koji će biti uključeni u model klasterizacije i navesti razlog za odabir"
   ]
  },
  {
   "cell_type": "code",
   "id": "ab4b6ff4eac3e68c",
   "metadata": {
    "ExecuteTime": {
     "end_time": "2025-07-02T08:58:46.499124Z",
     "start_time": "2025-07-02T08:58:46.482522Z"
    }
   },
   "source": [
    "# Da vidimo kog tipa je svaka promenljiva\n",
    "cl_data.info()\n",
    "\n",
    "# Promenljiva in_spotify_charts je tipa object (zapravo se tretira kao String), a trebalo\n",
    "# bi da bude broj ali to ćemo naknadno videti zašto"
   ],
   "outputs": [
    {
     "name": "stdout",
     "output_type": "stream",
     "text": [
      "<class 'pandas.core.frame.DataFrame'>\n",
      "Index: 952 entries, 0 to 952\n",
      "Data columns (total 13 columns):\n",
      " #   Column                Non-Null Count  Dtype  \n",
      "---  ------                --------------  -----  \n",
      " 0   track_name            952 non-null    object \n",
      " 1   released_year         952 non-null    int64  \n",
      " 2   in_spotify_playlists  952 non-null    int64  \n",
      " 3   in_spotify_charts     951 non-null    object \n",
      " 4   streams               952 non-null    int64  \n",
      " 5   in_apple_playlists    952 non-null    int64  \n",
      " 6   in_apple_charts       950 non-null    float64\n",
      " 7   bpm                   952 non-null    int64  \n",
      " 8   mode                  952 non-null    object \n",
      " 9   energy                952 non-null    int64  \n",
      " 10  instrumentalness      952 non-null    int64  \n",
      " 11  liveness              952 non-null    int64  \n",
      " 12  speechiness           952 non-null    int64  \n",
      "dtypes: float64(1), int64(9), object(3)\n",
      "memory usage: 104.1+ KB\n"
     ]
    }
   ],
   "execution_count": 149
  },
  {
   "cell_type": "code",
   "id": "d95b25057f73e5c9",
   "metadata": {
    "ExecuteTime": {
     "end_time": "2025-07-02T08:58:46.564483Z",
     "start_time": "2025-07-02T08:58:46.531159Z"
    }
   },
   "source": [
    "# Gledamo deskriptivne statistike za numeričke promenljive\n",
    "cl_data.describe()\n",
    "\n",
    "# Izdvaja se to da instrumentalness uglavnom sadrži nule (sve do 75 kvartila), pa je pitanje\n",
    "# da li zapravo ima smisla koristiti tu promenljivu\n",
    "#Osim toga, released_year uglavnom čine pesme iz raspona 2020-2023 (25 kvartil do max) i pitanje\n",
    "# je da li to kao informacija doprinosi boljoj klasterizaciji"
   ],
   "outputs": [
    {
     "data": {
      "text/plain": [
       "       released_year  in_spotify_playlists       streams  in_apple_playlists  \\\n",
       "count     952.000000            952.000000  9.520000e+02          952.000000   \n",
       "mean     2018.233193           5205.304622  5.146578e+08           67.876050   \n",
       "std        11.120988           7900.140377  5.666776e+08           86.464421   \n",
       "min      1930.000000             31.000000  2.762000e+03            0.000000   \n",
       "25%      2020.000000            878.750000  1.420017e+08           13.000000   \n",
       "50%      2022.000000           2225.000000  2.912715e+08           34.000000   \n",
       "75%      2022.000000           5573.750000  6.738690e+08           88.000000   \n",
       "max      2023.000000          52898.000000  3.703895e+09          672.000000   \n",
       "\n",
       "       in_apple_charts         bpm      energy  instrumentalness    liveness  \\\n",
       "count       950.000000  952.000000  952.000000        952.000000  952.000000   \n",
       "mean         51.746316  122.555672   64.297269          1.582983   18.211134   \n",
       "std          50.426462   28.068585   16.549733          8.414064   13.718308   \n",
       "min           0.000000   65.000000    9.000000          0.000000    3.000000   \n",
       "25%           7.000000   99.750000   53.000000          0.000000   10.000000   \n",
       "50%          38.000000  121.000000   66.000000          0.000000   12.000000   \n",
       "75%          86.000000  140.250000   77.000000          0.000000   24.000000   \n",
       "max         275.000000  206.000000   97.000000         91.000000   97.000000   \n",
       "\n",
       "       speechiness  \n",
       "count   952.000000  \n",
       "mean     10.074580  \n",
       "std       9.762894  \n",
       "min       2.000000  \n",
       "25%       4.000000  \n",
       "50%       6.000000  \n",
       "75%      11.000000  \n",
       "max      59.000000  "
      ],
      "text/html": [
       "<div>\n",
       "<style scoped>\n",
       "    .dataframe tbody tr th:only-of-type {\n",
       "        vertical-align: middle;\n",
       "    }\n",
       "\n",
       "    .dataframe tbody tr th {\n",
       "        vertical-align: top;\n",
       "    }\n",
       "\n",
       "    .dataframe thead th {\n",
       "        text-align: right;\n",
       "    }\n",
       "</style>\n",
       "<table border=\"1\" class=\"dataframe\">\n",
       "  <thead>\n",
       "    <tr style=\"text-align: right;\">\n",
       "      <th></th>\n",
       "      <th>released_year</th>\n",
       "      <th>in_spotify_playlists</th>\n",
       "      <th>streams</th>\n",
       "      <th>in_apple_playlists</th>\n",
       "      <th>in_apple_charts</th>\n",
       "      <th>bpm</th>\n",
       "      <th>energy</th>\n",
       "      <th>instrumentalness</th>\n",
       "      <th>liveness</th>\n",
       "      <th>speechiness</th>\n",
       "    </tr>\n",
       "  </thead>\n",
       "  <tbody>\n",
       "    <tr>\n",
       "      <th>count</th>\n",
       "      <td>952.000000</td>\n",
       "      <td>952.000000</td>\n",
       "      <td>9.520000e+02</td>\n",
       "      <td>952.000000</td>\n",
       "      <td>950.000000</td>\n",
       "      <td>952.000000</td>\n",
       "      <td>952.000000</td>\n",
       "      <td>952.000000</td>\n",
       "      <td>952.000000</td>\n",
       "      <td>952.000000</td>\n",
       "    </tr>\n",
       "    <tr>\n",
       "      <th>mean</th>\n",
       "      <td>2018.233193</td>\n",
       "      <td>5205.304622</td>\n",
       "      <td>5.146578e+08</td>\n",
       "      <td>67.876050</td>\n",
       "      <td>51.746316</td>\n",
       "      <td>122.555672</td>\n",
       "      <td>64.297269</td>\n",
       "      <td>1.582983</td>\n",
       "      <td>18.211134</td>\n",
       "      <td>10.074580</td>\n",
       "    </tr>\n",
       "    <tr>\n",
       "      <th>std</th>\n",
       "      <td>11.120988</td>\n",
       "      <td>7900.140377</td>\n",
       "      <td>5.666776e+08</td>\n",
       "      <td>86.464421</td>\n",
       "      <td>50.426462</td>\n",
       "      <td>28.068585</td>\n",
       "      <td>16.549733</td>\n",
       "      <td>8.414064</td>\n",
       "      <td>13.718308</td>\n",
       "      <td>9.762894</td>\n",
       "    </tr>\n",
       "    <tr>\n",
       "      <th>min</th>\n",
       "      <td>1930.000000</td>\n",
       "      <td>31.000000</td>\n",
       "      <td>2.762000e+03</td>\n",
       "      <td>0.000000</td>\n",
       "      <td>0.000000</td>\n",
       "      <td>65.000000</td>\n",
       "      <td>9.000000</td>\n",
       "      <td>0.000000</td>\n",
       "      <td>3.000000</td>\n",
       "      <td>2.000000</td>\n",
       "    </tr>\n",
       "    <tr>\n",
       "      <th>25%</th>\n",
       "      <td>2020.000000</td>\n",
       "      <td>878.750000</td>\n",
       "      <td>1.420017e+08</td>\n",
       "      <td>13.000000</td>\n",
       "      <td>7.000000</td>\n",
       "      <td>99.750000</td>\n",
       "      <td>53.000000</td>\n",
       "      <td>0.000000</td>\n",
       "      <td>10.000000</td>\n",
       "      <td>4.000000</td>\n",
       "    </tr>\n",
       "    <tr>\n",
       "      <th>50%</th>\n",
       "      <td>2022.000000</td>\n",
       "      <td>2225.000000</td>\n",
       "      <td>2.912715e+08</td>\n",
       "      <td>34.000000</td>\n",
       "      <td>38.000000</td>\n",
       "      <td>121.000000</td>\n",
       "      <td>66.000000</td>\n",
       "      <td>0.000000</td>\n",
       "      <td>12.000000</td>\n",
       "      <td>6.000000</td>\n",
       "    </tr>\n",
       "    <tr>\n",
       "      <th>75%</th>\n",
       "      <td>2022.000000</td>\n",
       "      <td>5573.750000</td>\n",
       "      <td>6.738690e+08</td>\n",
       "      <td>88.000000</td>\n",
       "      <td>86.000000</td>\n",
       "      <td>140.250000</td>\n",
       "      <td>77.000000</td>\n",
       "      <td>0.000000</td>\n",
       "      <td>24.000000</td>\n",
       "      <td>11.000000</td>\n",
       "    </tr>\n",
       "    <tr>\n",
       "      <th>max</th>\n",
       "      <td>2023.000000</td>\n",
       "      <td>52898.000000</td>\n",
       "      <td>3.703895e+09</td>\n",
       "      <td>672.000000</td>\n",
       "      <td>275.000000</td>\n",
       "      <td>206.000000</td>\n",
       "      <td>97.000000</td>\n",
       "      <td>91.000000</td>\n",
       "      <td>97.000000</td>\n",
       "      <td>59.000000</td>\n",
       "    </tr>\n",
       "  </tbody>\n",
       "</table>\n",
       "</div>"
      ]
     },
     "execution_count": 150,
     "metadata": {},
     "output_type": "execute_result"
    }
   ],
   "execution_count": 150
  },
  {
   "cell_type": "code",
   "id": "8366fcffaf2f576d",
   "metadata": {
    "ExecuteTime": {
     "end_time": "2025-07-02T08:58:46.583230Z",
     "start_time": "2025-07-02T08:58:46.576663Z"
    }
   },
   "source": [
    "# Razmatramo sledeće promenljive za izbacivanje:\n",
    "\n",
    "# track_name - nije nam bitan naziv pesme radi klasterizacije, a i nije numerička promenljiva\n",
    "\n",
    "# mode - nije numerička, već kategorijska promenljiva. Pošto ima samo dve vrednosti (Major i Minor)\n",
    "# transformisaćemo je u binarnu (numeričku) varijablu mapiranjem u sledećem koraku (npr. 0 - Major,\n",
    "# 1 - Minor) i upotrebićemo je u klasterizaciji - nećemo je izbaciti.\n",
    "\n",
    "# Za promenljivu instrumentalness, uglavnom važi da je čine nule (o do 75 kvartila), pa nju izbacujemo\n",
    "\n",
    "# Ostale promenljive su numeričke (osim in_spotify_charts koja je tipa object, a trebalo\n",
    "# bi da bude broj ali to ćemo naknadno videti zašto u sledećem koraku) tako da one ostaju - za sada.\n",
    "cl_data.drop(columns = [\"track_name\", \"instrumentalness\"], inplace = True)"
   ],
   "outputs": [],
   "execution_count": 151
  },
  {
   "cell_type": "markdown",
   "id": "94dbc633cdb3abbf",
   "metadata": {},
   "source": [
    "## 3. Priprema podataka\n",
    "\n",
    "U dataset-u dobijenom na osnovu prethodna dva zahteva proveriti da li postoje nedostajuće\n",
    "vrednosti (NA, “-”, ” ”, ili ””) i ako je moguće, zameniti ih adekvatnim vrednostima.\n",
    "Prokomentarisati postupak zamene vrednosti, odnosno zašto je određeni metod zamene\n",
    "vrednosti odabran. Tako dobijeni dataset eventualno dodatno obraditi da bi bio pogodan za\n",
    "primenu metode klasterizacije.\n",
    "\n",
    "### 3.1 Nedostajuće vrednosti"
   ]
  },
  {
   "cell_type": "code",
   "id": "c24e848e6c4a8fee",
   "metadata": {
    "ExecuteTime": {
     "end_time": "2025-07-02T08:58:46.616470Z",
     "start_time": "2025-07-02T08:58:46.601099Z"
    }
   },
   "source": [
    "# Pretvaramo kolonu in_spotify_charts u numeričku i menjamo pogrešno unete vrednosti ('-', \"\" ili '_' ili tj. sve što nije broj) sa NA vrednostima\n",
    "cl_data[\"in_spotify_charts\"] = pd.to_numeric(cl_data[\"in_spotify_charts\"], errors='coerce')\n",
    "\n",
    "# Ponovo pogledamo tipove promenljivih\n",
    "cl_data.info()"
   ],
   "outputs": [
    {
     "name": "stdout",
     "output_type": "stream",
     "text": [
      "<class 'pandas.core.frame.DataFrame'>\n",
      "Index: 952 entries, 0 to 952\n",
      "Data columns (total 11 columns):\n",
      " #   Column                Non-Null Count  Dtype  \n",
      "---  ------                --------------  -----  \n",
      " 0   released_year         952 non-null    int64  \n",
      " 1   in_spotify_playlists  952 non-null    int64  \n",
      " 2   in_spotify_charts     950 non-null    float64\n",
      " 3   streams               952 non-null    int64  \n",
      " 4   in_apple_playlists    952 non-null    int64  \n",
      " 5   in_apple_charts       950 non-null    float64\n",
      " 6   bpm                   952 non-null    int64  \n",
      " 7   mode                  952 non-null    object \n",
      " 8   energy                952 non-null    int64  \n",
      " 9   liveness              952 non-null    int64  \n",
      " 10  speechiness           952 non-null    int64  \n",
      "dtypes: float64(2), int64(8), object(1)\n",
      "memory usage: 89.2+ KB\n"
     ]
    }
   ],
   "execution_count": 152
  },
  {
   "cell_type": "code",
   "id": "4038ca238a5bfa0",
   "metadata": {
    "ExecuteTime": {
     "end_time": "2025-07-02T08:58:46.658342Z",
     "start_time": "2025-07-02T08:58:46.638380Z"
    }
   },
   "source": [
    "# Kolona mode jedina nije numerička, ali nju ćemo sada pretvoriti u\n",
    "# binarnu (numeričku) varijablu mapiranjem u sledećem koraku (npr. 0 - Major,\n",
    "# 1 - Minor)\n",
    "cl_data[\"mode\"] = cl_data[\"mode\"].map({'Major': 0, 'Minor': 1})\n",
    "\n",
    "# Ponovo pogledamo tipove promenljivih\n",
    "cl_data.info()\n",
    "\n",
    "# Pogledamo i raspodelu promenljive mode\n",
    "cl_data[\"mode\"].describe()"
   ],
   "outputs": [
    {
     "name": "stdout",
     "output_type": "stream",
     "text": [
      "<class 'pandas.core.frame.DataFrame'>\n",
      "Index: 952 entries, 0 to 952\n",
      "Data columns (total 11 columns):\n",
      " #   Column                Non-Null Count  Dtype  \n",
      "---  ------                --------------  -----  \n",
      " 0   released_year         952 non-null    int64  \n",
      " 1   in_spotify_playlists  952 non-null    int64  \n",
      " 2   in_spotify_charts     950 non-null    float64\n",
      " 3   streams               952 non-null    int64  \n",
      " 4   in_apple_playlists    952 non-null    int64  \n",
      " 5   in_apple_charts       950 non-null    float64\n",
      " 6   bpm                   952 non-null    int64  \n",
      " 7   mode                  952 non-null    int64  \n",
      " 8   energy                952 non-null    int64  \n",
      " 9   liveness              952 non-null    int64  \n",
      " 10  speechiness           952 non-null    int64  \n",
      "dtypes: float64(2), int64(9)\n",
      "memory usage: 89.2 KB\n"
     ]
    },
    {
     "data": {
      "text/plain": [
       "count    952.000000\n",
       "mean       0.422269\n",
       "std        0.494181\n",
       "min        0.000000\n",
       "25%        0.000000\n",
       "50%        0.000000\n",
       "75%        1.000000\n",
       "max        1.000000\n",
       "Name: mode, dtype: float64"
      ]
     },
     "execution_count": 153,
     "metadata": {},
     "output_type": "execute_result"
    }
   ],
   "execution_count": 153
  },
  {
   "cell_type": "code",
   "id": "6d2f1e709902da75",
   "metadata": {
    "ExecuteTime": {
     "end_time": "2025-07-02T08:58:46.742470Z",
     "start_time": "2025-07-02T08:58:46.690974Z"
    }
   },
   "source": [
    "#Proveravamo nedostajuće vrednosti po kolonama (koje su sada sve brojevi)\n",
    "print(cl_data.isnull().sum())\n",
    "\n",
    "#Proverimo i deskriptivne statistike (nedostajuće vrednosti se i ovde vide u redu count za kolone\n",
    "# in_spotify_charts i in_apple_charts gde nije 952 već po 950)\n",
    "cl_data.describe()"
   ],
   "outputs": [
    {
     "name": "stdout",
     "output_type": "stream",
     "text": [
      "released_year           0\n",
      "in_spotify_playlists    0\n",
      "in_spotify_charts       2\n",
      "streams                 0\n",
      "in_apple_playlists      0\n",
      "in_apple_charts         2\n",
      "bpm                     0\n",
      "mode                    0\n",
      "energy                  0\n",
      "liveness                0\n",
      "speechiness             0\n",
      "dtype: int64\n"
     ]
    },
    {
     "data": {
      "text/plain": [
       "       released_year  in_spotify_playlists  in_spotify_charts       streams  \\\n",
       "count     952.000000            952.000000         950.000000  9.520000e+02   \n",
       "mean     2018.233193           5205.304622          11.880000  5.146578e+08   \n",
       "std        11.120988           7900.140377          19.345299  5.666776e+08   \n",
       "min      1930.000000             31.000000           0.000000  2.762000e+03   \n",
       "25%      2020.000000            878.750000           0.000000  1.420017e+08   \n",
       "50%      2022.000000           2225.000000           3.000000  2.912715e+08   \n",
       "75%      2022.000000           5573.750000          16.000000  6.738690e+08   \n",
       "max      2023.000000          52898.000000         147.000000  3.703895e+09   \n",
       "\n",
       "       in_apple_playlists  in_apple_charts         bpm        mode  \\\n",
       "count          952.000000       950.000000  952.000000  952.000000   \n",
       "mean            67.876050        51.746316  122.555672    0.422269   \n",
       "std             86.464421        50.426462   28.068585    0.494181   \n",
       "min              0.000000         0.000000   65.000000    0.000000   \n",
       "25%             13.000000         7.000000   99.750000    0.000000   \n",
       "50%             34.000000        38.000000  121.000000    0.000000   \n",
       "75%             88.000000        86.000000  140.250000    1.000000   \n",
       "max            672.000000       275.000000  206.000000    1.000000   \n",
       "\n",
       "           energy    liveness  speechiness  \n",
       "count  952.000000  952.000000   952.000000  \n",
       "mean    64.297269   18.211134    10.074580  \n",
       "std     16.549733   13.718308     9.762894  \n",
       "min      9.000000    3.000000     2.000000  \n",
       "25%     53.000000   10.000000     4.000000  \n",
       "50%     66.000000   12.000000     6.000000  \n",
       "75%     77.000000   24.000000    11.000000  \n",
       "max     97.000000   97.000000    59.000000  "
      ],
      "text/html": [
       "<div>\n",
       "<style scoped>\n",
       "    .dataframe tbody tr th:only-of-type {\n",
       "        vertical-align: middle;\n",
       "    }\n",
       "\n",
       "    .dataframe tbody tr th {\n",
       "        vertical-align: top;\n",
       "    }\n",
       "\n",
       "    .dataframe thead th {\n",
       "        text-align: right;\n",
       "    }\n",
       "</style>\n",
       "<table border=\"1\" class=\"dataframe\">\n",
       "  <thead>\n",
       "    <tr style=\"text-align: right;\">\n",
       "      <th></th>\n",
       "      <th>released_year</th>\n",
       "      <th>in_spotify_playlists</th>\n",
       "      <th>in_spotify_charts</th>\n",
       "      <th>streams</th>\n",
       "      <th>in_apple_playlists</th>\n",
       "      <th>in_apple_charts</th>\n",
       "      <th>bpm</th>\n",
       "      <th>mode</th>\n",
       "      <th>energy</th>\n",
       "      <th>liveness</th>\n",
       "      <th>speechiness</th>\n",
       "    </tr>\n",
       "  </thead>\n",
       "  <tbody>\n",
       "    <tr>\n",
       "      <th>count</th>\n",
       "      <td>952.000000</td>\n",
       "      <td>952.000000</td>\n",
       "      <td>950.000000</td>\n",
       "      <td>9.520000e+02</td>\n",
       "      <td>952.000000</td>\n",
       "      <td>950.000000</td>\n",
       "      <td>952.000000</td>\n",
       "      <td>952.000000</td>\n",
       "      <td>952.000000</td>\n",
       "      <td>952.000000</td>\n",
       "      <td>952.000000</td>\n",
       "    </tr>\n",
       "    <tr>\n",
       "      <th>mean</th>\n",
       "      <td>2018.233193</td>\n",
       "      <td>5205.304622</td>\n",
       "      <td>11.880000</td>\n",
       "      <td>5.146578e+08</td>\n",
       "      <td>67.876050</td>\n",
       "      <td>51.746316</td>\n",
       "      <td>122.555672</td>\n",
       "      <td>0.422269</td>\n",
       "      <td>64.297269</td>\n",
       "      <td>18.211134</td>\n",
       "      <td>10.074580</td>\n",
       "    </tr>\n",
       "    <tr>\n",
       "      <th>std</th>\n",
       "      <td>11.120988</td>\n",
       "      <td>7900.140377</td>\n",
       "      <td>19.345299</td>\n",
       "      <td>5.666776e+08</td>\n",
       "      <td>86.464421</td>\n",
       "      <td>50.426462</td>\n",
       "      <td>28.068585</td>\n",
       "      <td>0.494181</td>\n",
       "      <td>16.549733</td>\n",
       "      <td>13.718308</td>\n",
       "      <td>9.762894</td>\n",
       "    </tr>\n",
       "    <tr>\n",
       "      <th>min</th>\n",
       "      <td>1930.000000</td>\n",
       "      <td>31.000000</td>\n",
       "      <td>0.000000</td>\n",
       "      <td>2.762000e+03</td>\n",
       "      <td>0.000000</td>\n",
       "      <td>0.000000</td>\n",
       "      <td>65.000000</td>\n",
       "      <td>0.000000</td>\n",
       "      <td>9.000000</td>\n",
       "      <td>3.000000</td>\n",
       "      <td>2.000000</td>\n",
       "    </tr>\n",
       "    <tr>\n",
       "      <th>25%</th>\n",
       "      <td>2020.000000</td>\n",
       "      <td>878.750000</td>\n",
       "      <td>0.000000</td>\n",
       "      <td>1.420017e+08</td>\n",
       "      <td>13.000000</td>\n",
       "      <td>7.000000</td>\n",
       "      <td>99.750000</td>\n",
       "      <td>0.000000</td>\n",
       "      <td>53.000000</td>\n",
       "      <td>10.000000</td>\n",
       "      <td>4.000000</td>\n",
       "    </tr>\n",
       "    <tr>\n",
       "      <th>50%</th>\n",
       "      <td>2022.000000</td>\n",
       "      <td>2225.000000</td>\n",
       "      <td>3.000000</td>\n",
       "      <td>2.912715e+08</td>\n",
       "      <td>34.000000</td>\n",
       "      <td>38.000000</td>\n",
       "      <td>121.000000</td>\n",
       "      <td>0.000000</td>\n",
       "      <td>66.000000</td>\n",
       "      <td>12.000000</td>\n",
       "      <td>6.000000</td>\n",
       "    </tr>\n",
       "    <tr>\n",
       "      <th>75%</th>\n",
       "      <td>2022.000000</td>\n",
       "      <td>5573.750000</td>\n",
       "      <td>16.000000</td>\n",
       "      <td>6.738690e+08</td>\n",
       "      <td>88.000000</td>\n",
       "      <td>86.000000</td>\n",
       "      <td>140.250000</td>\n",
       "      <td>1.000000</td>\n",
       "      <td>77.000000</td>\n",
       "      <td>24.000000</td>\n",
       "      <td>11.000000</td>\n",
       "    </tr>\n",
       "    <tr>\n",
       "      <th>max</th>\n",
       "      <td>2023.000000</td>\n",
       "      <td>52898.000000</td>\n",
       "      <td>147.000000</td>\n",
       "      <td>3.703895e+09</td>\n",
       "      <td>672.000000</td>\n",
       "      <td>275.000000</td>\n",
       "      <td>206.000000</td>\n",
       "      <td>1.000000</td>\n",
       "      <td>97.000000</td>\n",
       "      <td>97.000000</td>\n",
       "      <td>59.000000</td>\n",
       "    </tr>\n",
       "  </tbody>\n",
       "</table>\n",
       "</div>"
      ]
     },
     "execution_count": 154,
     "metadata": {},
     "output_type": "execute_result"
    }
   ],
   "execution_count": 154
  },
  {
   "cell_type": "code",
   "id": "3f79469f0cdd9056",
   "metadata": {
    "ExecuteTime": {
     "end_time": "2025-07-02T08:58:46.848052Z",
     "start_time": "2025-07-02T08:58:46.827757Z"
    }
   },
   "source": [
    "# Sa obzirom na to da ukupno imamo 4 nedostajuće vrednosti na ceo dataset od 952 instance\n",
    "# ok je da izbacimo te četiri instance (četiri cela reda) jer ne to bi trebalo da utiče mnogo na\n",
    "# rezultate klasterizacije\n",
    "#cl_data.dropna(inplace = True)\n",
    "#print(cl_data.isnull().sum())\n",
    "\n",
    "# Isto tako, ok je i da zamenimo te četiri nedostajuće vrednosti srednjom vrednošću\n",
    "# (medijana) za tu kolonu.\n",
    "cl_data.loc[cl_data[\"in_spotify_charts\"].isnull(), \"in_spotify_charts\"] = cl_data[\"in_spotify_charts\"].median()\n",
    "cl_data.loc[cl_data[\"in_apple_charts\"].isnull(), \"in_apple_charts\"] = cl_data[\"in_apple_charts\"].median()\n",
    "print(cl_data.isnull().sum())\n",
    "\n",
    "# Ostaje svih 952 instanci i nigde ne postoji nijedna nedostajuća vrednost\n",
    "cl_data.info()"
   ],
   "outputs": [
    {
     "name": "stdout",
     "output_type": "stream",
     "text": [
      "released_year           0\n",
      "in_spotify_playlists    0\n",
      "in_spotify_charts       0\n",
      "streams                 0\n",
      "in_apple_playlists      0\n",
      "in_apple_charts         0\n",
      "bpm                     0\n",
      "mode                    0\n",
      "energy                  0\n",
      "liveness                0\n",
      "speechiness             0\n",
      "dtype: int64\n",
      "<class 'pandas.core.frame.DataFrame'>\n",
      "Index: 952 entries, 0 to 952\n",
      "Data columns (total 11 columns):\n",
      " #   Column                Non-Null Count  Dtype  \n",
      "---  ------                --------------  -----  \n",
      " 0   released_year         952 non-null    int64  \n",
      " 1   in_spotify_playlists  952 non-null    int64  \n",
      " 2   in_spotify_charts     952 non-null    float64\n",
      " 3   streams               952 non-null    int64  \n",
      " 4   in_apple_playlists    952 non-null    int64  \n",
      " 5   in_apple_charts       952 non-null    float64\n",
      " 6   bpm                   952 non-null    int64  \n",
      " 7   mode                  952 non-null    int64  \n",
      " 8   energy                952 non-null    int64  \n",
      " 9   liveness              952 non-null    int64  \n",
      " 10  speechiness           952 non-null    int64  \n",
      "dtypes: float64(2), int64(9)\n",
      "memory usage: 89.2 KB\n"
     ]
    }
   ],
   "execution_count": 155
  },
  {
   "cell_type": "code",
   "id": "cf496d393299e12b",
   "metadata": {
    "ExecuteTime": {
     "end_time": "2025-07-02T08:58:46.925238Z",
     "start_time": "2025-07-02T08:58:46.873782Z"
    }
   },
   "source": [
    "# Ovde sada postoji jedan veliki problem sa kodiranjem podataka koji će da utiče na klasterizaciju\n",
    "# a odnosi se na ove dve kolone: in_spotify_charts i in_apple_charts. Ako se pesma ne pojavljuje\n",
    "# na top listi, stoji vrednost 0. Najbolje pesme su na 1, 2 i 3 mestu a najgore na 147 odnosno 275\n",
    "# mestu (max) tj. što je niži broj, pesma je bolja.\n",
    "# - Ako se ostave ove nule, dobija se iskrivljena slika da su to NAJBOLJE pesme (0 je manje od 1, 2, 3...)\n",
    "# - Ako se zamene medijanom za tu kolonu, dobija se iskrivljena slika da su to osrednje pesme.\n",
    "#\n",
    "# Možda je najbolje da se ove vrednosti\n",
    "# zamene sa max vrednošću za tu kolonu da bi se dobila realna slika o poziciji tih pesama na top listama.\n",
    "cl_data.loc[cl_data[\"in_apple_charts\"]==0, \"in_apple_charts\"] = cl_data[\"in_apple_charts\"].max()\n",
    "cl_data.loc[cl_data[\"in_spotify_charts\"]==0, \"in_spotify_charts\"] = cl_data[\"in_spotify_charts\"].max()\n",
    "\n",
    "# Sve nule iz ove dve kolone su zamenjene max vrednostima\n",
    "cl_data.describe()"
   ],
   "outputs": [
    {
     "data": {
      "text/plain": [
       "       released_year  in_spotify_playlists  in_spotify_charts       streams  \\\n",
       "count     952.000000            952.000000         952.000000  9.520000e+02   \n",
       "mean     2018.233193           5205.304622          74.398109  5.146578e+08   \n",
       "std        11.120988           7900.140377          64.622987  5.666776e+08   \n",
       "min      1930.000000             31.000000           1.000000  2.762000e+03   \n",
       "25%      2020.000000            878.750000          11.000000  1.420017e+08   \n",
       "50%      2022.000000           2225.000000          42.000000  2.912715e+08   \n",
       "75%      2022.000000           5573.750000         147.000000  6.738690e+08   \n",
       "max      2023.000000          52898.000000         147.000000  3.703895e+09   \n",
       "\n",
       "       in_apple_playlists  in_apple_charts         bpm        mode  \\\n",
       "count          952.000000       952.000000  952.000000  952.000000   \n",
       "mean            67.876050        80.603992  122.555672    0.422269   \n",
       "std             86.464421        81.631508   28.068585    0.494181   \n",
       "min              0.000000         1.000000   65.000000    0.000000   \n",
       "25%             13.000000        16.000000   99.750000    0.000000   \n",
       "50%             34.000000        58.500000  121.000000    0.000000   \n",
       "75%             88.000000       108.250000  140.250000    1.000000   \n",
       "max            672.000000       275.000000  206.000000    1.000000   \n",
       "\n",
       "           energy    liveness  speechiness  \n",
       "count  952.000000  952.000000   952.000000  \n",
       "mean    64.297269   18.211134    10.074580  \n",
       "std     16.549733   13.718308     9.762894  \n",
       "min      9.000000    3.000000     2.000000  \n",
       "25%     53.000000   10.000000     4.000000  \n",
       "50%     66.000000   12.000000     6.000000  \n",
       "75%     77.000000   24.000000    11.000000  \n",
       "max     97.000000   97.000000    59.000000  "
      ],
      "text/html": [
       "<div>\n",
       "<style scoped>\n",
       "    .dataframe tbody tr th:only-of-type {\n",
       "        vertical-align: middle;\n",
       "    }\n",
       "\n",
       "    .dataframe tbody tr th {\n",
       "        vertical-align: top;\n",
       "    }\n",
       "\n",
       "    .dataframe thead th {\n",
       "        text-align: right;\n",
       "    }\n",
       "</style>\n",
       "<table border=\"1\" class=\"dataframe\">\n",
       "  <thead>\n",
       "    <tr style=\"text-align: right;\">\n",
       "      <th></th>\n",
       "      <th>released_year</th>\n",
       "      <th>in_spotify_playlists</th>\n",
       "      <th>in_spotify_charts</th>\n",
       "      <th>streams</th>\n",
       "      <th>in_apple_playlists</th>\n",
       "      <th>in_apple_charts</th>\n",
       "      <th>bpm</th>\n",
       "      <th>mode</th>\n",
       "      <th>energy</th>\n",
       "      <th>liveness</th>\n",
       "      <th>speechiness</th>\n",
       "    </tr>\n",
       "  </thead>\n",
       "  <tbody>\n",
       "    <tr>\n",
       "      <th>count</th>\n",
       "      <td>952.000000</td>\n",
       "      <td>952.000000</td>\n",
       "      <td>952.000000</td>\n",
       "      <td>9.520000e+02</td>\n",
       "      <td>952.000000</td>\n",
       "      <td>952.000000</td>\n",
       "      <td>952.000000</td>\n",
       "      <td>952.000000</td>\n",
       "      <td>952.000000</td>\n",
       "      <td>952.000000</td>\n",
       "      <td>952.000000</td>\n",
       "    </tr>\n",
       "    <tr>\n",
       "      <th>mean</th>\n",
       "      <td>2018.233193</td>\n",
       "      <td>5205.304622</td>\n",
       "      <td>74.398109</td>\n",
       "      <td>5.146578e+08</td>\n",
       "      <td>67.876050</td>\n",
       "      <td>80.603992</td>\n",
       "      <td>122.555672</td>\n",
       "      <td>0.422269</td>\n",
       "      <td>64.297269</td>\n",
       "      <td>18.211134</td>\n",
       "      <td>10.074580</td>\n",
       "    </tr>\n",
       "    <tr>\n",
       "      <th>std</th>\n",
       "      <td>11.120988</td>\n",
       "      <td>7900.140377</td>\n",
       "      <td>64.622987</td>\n",
       "      <td>5.666776e+08</td>\n",
       "      <td>86.464421</td>\n",
       "      <td>81.631508</td>\n",
       "      <td>28.068585</td>\n",
       "      <td>0.494181</td>\n",
       "      <td>16.549733</td>\n",
       "      <td>13.718308</td>\n",
       "      <td>9.762894</td>\n",
       "    </tr>\n",
       "    <tr>\n",
       "      <th>min</th>\n",
       "      <td>1930.000000</td>\n",
       "      <td>31.000000</td>\n",
       "      <td>1.000000</td>\n",
       "      <td>2.762000e+03</td>\n",
       "      <td>0.000000</td>\n",
       "      <td>1.000000</td>\n",
       "      <td>65.000000</td>\n",
       "      <td>0.000000</td>\n",
       "      <td>9.000000</td>\n",
       "      <td>3.000000</td>\n",
       "      <td>2.000000</td>\n",
       "    </tr>\n",
       "    <tr>\n",
       "      <th>25%</th>\n",
       "      <td>2020.000000</td>\n",
       "      <td>878.750000</td>\n",
       "      <td>11.000000</td>\n",
       "      <td>1.420017e+08</td>\n",
       "      <td>13.000000</td>\n",
       "      <td>16.000000</td>\n",
       "      <td>99.750000</td>\n",
       "      <td>0.000000</td>\n",
       "      <td>53.000000</td>\n",
       "      <td>10.000000</td>\n",
       "      <td>4.000000</td>\n",
       "    </tr>\n",
       "    <tr>\n",
       "      <th>50%</th>\n",
       "      <td>2022.000000</td>\n",
       "      <td>2225.000000</td>\n",
       "      <td>42.000000</td>\n",
       "      <td>2.912715e+08</td>\n",
       "      <td>34.000000</td>\n",
       "      <td>58.500000</td>\n",
       "      <td>121.000000</td>\n",
       "      <td>0.000000</td>\n",
       "      <td>66.000000</td>\n",
       "      <td>12.000000</td>\n",
       "      <td>6.000000</td>\n",
       "    </tr>\n",
       "    <tr>\n",
       "      <th>75%</th>\n",
       "      <td>2022.000000</td>\n",
       "      <td>5573.750000</td>\n",
       "      <td>147.000000</td>\n",
       "      <td>6.738690e+08</td>\n",
       "      <td>88.000000</td>\n",
       "      <td>108.250000</td>\n",
       "      <td>140.250000</td>\n",
       "      <td>1.000000</td>\n",
       "      <td>77.000000</td>\n",
       "      <td>24.000000</td>\n",
       "      <td>11.000000</td>\n",
       "    </tr>\n",
       "    <tr>\n",
       "      <th>max</th>\n",
       "      <td>2023.000000</td>\n",
       "      <td>52898.000000</td>\n",
       "      <td>147.000000</td>\n",
       "      <td>3.703895e+09</td>\n",
       "      <td>672.000000</td>\n",
       "      <td>275.000000</td>\n",
       "      <td>206.000000</td>\n",
       "      <td>1.000000</td>\n",
       "      <td>97.000000</td>\n",
       "      <td>97.000000</td>\n",
       "      <td>59.000000</td>\n",
       "    </tr>\n",
       "  </tbody>\n",
       "</table>\n",
       "</div>"
      ]
     },
     "execution_count": 156,
     "metadata": {},
     "output_type": "execute_result"
    }
   ],
   "execution_count": 156
  },
  {
   "cell_type": "markdown",
   "id": "3fcaf1ecbe5813b3",
   "metadata": {},
   "source": [
    "### 3.2 Korelacije"
   ]
  },
  {
   "cell_type": "code",
   "id": "48a1ccfd7834a14a",
   "metadata": {
    "ExecuteTime": {
     "end_time": "2025-07-02T08:58:47.374377Z",
     "start_time": "2025-07-02T08:58:46.987539Z"
    }
   },
   "source": [
    "import seaborn as sb\n",
    "\n",
    "# Proveravamo korelacije preostalih promenljivih\n",
    "plt.figure(figsize=(8,6))\n",
    "sb.heatmap(cl_data.corr(), cmap=\"Blues\",annot=True)\n",
    "plt.show()"
   ],
   "outputs": [
    {
     "data": {
      "text/plain": [
       "<Figure size 800x600 with 2 Axes>"
      ],
      "image/png": "[encoded data removed]"
     },
     "metadata": {},
     "output_type": "display_data"
    }
   ],
   "execution_count": 157
  },
  {
   "cell_type": "code",
   "id": "85a80c0204136adf",
   "metadata": {
    "ExecuteTime": {
     "end_time": "2025-07-02T08:58:47.392946Z",
     "start_time": "2025-07-02T08:58:47.374377Z"
    }
   },
   "source": [
    "#Promenljive streams, in_apple_playlists i in_spotify_playlists su međusobno visoko korelisane (svaka sa svakom)\n",
    "#i to će puno da utiče na rezultate klasterizacije. Izbacićemo bilo koje dve od te tri, na primer streams i\n",
    "# in_apple_playlists\n",
    "cl_data.drop(columns = [\"in_apple_playlists\", \"streams\"], inplace = True)"
   ],
   "outputs": [],
   "execution_count": 158
  },
  {
   "cell_type": "code",
   "id": "27ea39761ca2c443",
   "metadata": {
    "ExecuteTime": {
     "end_time": "2025-07-02T08:58:47.438783Z",
     "start_time": "2025-07-02T08:58:47.408635Z"
    }
   },
   "source": [
    "# Proveravamo šta je ostalo od podataka\n",
    "cl_data"
   ],
   "outputs": [
    {
     "data": {
      "text/plain": [
       "     released_year  in_spotify_playlists  in_spotify_charts  in_apple_charts  \\\n",
       "0             2023                   553              147.0            263.0   \n",
       "1             2023                  1474               48.0            126.0   \n",
       "2             2023                  1397              113.0            207.0   \n",
       "3             2019                  7858                3.0            207.0   \n",
       "4             2023                  3133               50.0            133.0   \n",
       "..             ...                   ...                ...              ...   \n",
       "948           2022                   953              147.0             13.0   \n",
       "949           2022                  1180              147.0            275.0   \n",
       "950           2022                   573              147.0            275.0   \n",
       "951           2022                  1320              147.0             26.0   \n",
       "952           2022                   782                2.0             18.0   \n",
       "\n",
       "     bpm  mode  energy  liveness  speechiness  \n",
       "0    125     0      83         8            4  \n",
       "1     92     0      74        10            4  \n",
       "2    138     0      53        31            6  \n",
       "3    170     0      72        11           15  \n",
       "4    144     1      80        11            6  \n",
       "..   ...   ...     ...       ...          ...  \n",
       "948  144     0      39         8            3  \n",
       "949  166     0      24        12            6  \n",
       "950   92     0      67         8            6  \n",
       "951   97     0      77        12            5  \n",
       "952   90     1      67        11            5  \n",
       "\n",
       "[952 rows x 9 columns]"
      ],
      "text/html": [
       "<div>\n",
       "<style scoped>\n",
       "    .dataframe tbody tr th:only-of-type {\n",
       "        vertical-align: middle;\n",
       "    }\n",
       "\n",
       "    .dataframe tbody tr th {\n",
       "        vertical-align: top;\n",
       "    }\n",
       "\n",
       "    .dataframe thead th {\n",
       "        text-align: right;\n",
       "    }\n",
       "</style>\n",
       "<table border=\"1\" class=\"dataframe\">\n",
       "  <thead>\n",
       "    <tr style=\"text-align: right;\">\n",
       "      <th></th>\n",
       "      <th>released_year</th>\n",
       "      <th>in_spotify_playlists</th>\n",
       "      <th>in_spotify_charts</th>\n",
       "      <th>in_apple_charts</th>\n",
       "      <th>bpm</th>\n",
       "      <th>mode</th>\n",
       "      <th>energy</th>\n",
       "      <th>liveness</th>\n",
       "      <th>speechiness</th>\n",
       "    </tr>\n",
       "  </thead>\n",
       "  <tbody>\n",
       "    <tr>\n",
       "      <th>0</th>\n",
       "      <td>2023</td>\n",
       "      <td>553</td>\n",
       "      <td>147.0</td>\n",
       "      <td>263.0</td>\n",
       "      <td>125</td>\n",
       "      <td>0</td>\n",
       "      <td>83</td>\n",
       "      <td>8</td>\n",
       "      <td>4</td>\n",
       "    </tr>\n",
       "    <tr>\n",
       "      <th>1</th>\n",
       "      <td>2023</td>\n",
       "      <td>1474</td>\n",
       "      <td>48.0</td>\n",
       "      <td>126.0</td>\n",
       "      <td>92</td>\n",
       "      <td>0</td>\n",
       "      <td>74</td>\n",
       "      <td>10</td>\n",
       "      <td>4</td>\n",
       "    </tr>\n",
       "    <tr>\n",
       "      <th>2</th>\n",
       "      <td>2023</td>\n",
       "      <td>1397</td>\n",
       "      <td>113.0</td>\n",
       "      <td>207.0</td>\n",
       "      <td>138</td>\n",
       "      <td>0</td>\n",
       "      <td>53</td>\n",
       "      <td>31</td>\n",
       "      <td>6</td>\n",
       "    </tr>\n",
       "    <tr>\n",
       "      <th>3</th>\n",
       "      <td>2019</td>\n",
       "      <td>7858</td>\n",
       "      <td>3.0</td>\n",
       "      <td>207.0</td>\n",
       "      <td>170</td>\n",
       "      <td>0</td>\n",
       "      <td>72</td>\n",
       "      <td>11</td>\n",
       "      <td>15</td>\n",
       "    </tr>\n",
       "    <tr>\n",
       "      <th>4</th>\n",
       "      <td>2023</td>\n",
       "      <td>3133</td>\n",
       "      <td>50.0</td>\n",
       "      <td>133.0</td>\n",
       "      <td>144</td>\n",
       "      <td>1</td>\n",
       "      <td>80</td>\n",
       "      <td>11</td>\n",
       "      <td>6</td>\n",
       "    </tr>\n",
       "    <tr>\n",
       "      <th>...</th>\n",
       "      <td>...</td>\n",
       "      <td>...</td>\n",
       "      <td>...</td>\n",
       "      <td>...</td>\n",
       "      <td>...</td>\n",
       "      <td>...</td>\n",
       "      <td>...</td>\n",
       "      <td>...</td>\n",
       "      <td>...</td>\n",
       "    </tr>\n",
       "    <tr>\n",
       "      <th>948</th>\n",
       "      <td>2022</td>\n",
       "      <td>953</td>\n",
       "      <td>147.0</td>\n",
       "      <td>13.0</td>\n",
       "      <td>144</td>\n",
       "      <td>0</td>\n",
       "      <td>39</td>\n",
       "      <td>8</td>\n",
       "      <td>3</td>\n",
       "    </tr>\n",
       "    <tr>\n",
       "      <th>949</th>\n",
       "      <td>2022</td>\n",
       "      <td>1180</td>\n",
       "      <td>147.0</td>\n",
       "      <td>275.0</td>\n",
       "      <td>166</td>\n",
       "      <td>0</td>\n",
       "      <td>24</td>\n",
       "      <td>12</td>\n",
       "      <td>6</td>\n",
       "    </tr>\n",
       "    <tr>\n",
       "      <th>950</th>\n",
       "      <td>2022</td>\n",
       "      <td>573</td>\n",
       "      <td>147.0</td>\n",
       "      <td>275.0</td>\n",
       "      <td>92</td>\n",
       "      <td>0</td>\n",
       "      <td>67</td>\n",
       "      <td>8</td>\n",
       "      <td>6</td>\n",
       "    </tr>\n",
       "    <tr>\n",
       "      <th>951</th>\n",
       "      <td>2022</td>\n",
       "      <td>1320</td>\n",
       "      <td>147.0</td>\n",
       "      <td>26.0</td>\n",
       "      <td>97</td>\n",
       "      <td>0</td>\n",
       "      <td>77</td>\n",
       "      <td>12</td>\n",
       "      <td>5</td>\n",
       "    </tr>\n",
       "    <tr>\n",
       "      <th>952</th>\n",
       "      <td>2022</td>\n",
       "      <td>782</td>\n",
       "      <td>2.0</td>\n",
       "      <td>18.0</td>\n",
       "      <td>90</td>\n",
       "      <td>1</td>\n",
       "      <td>67</td>\n",
       "      <td>11</td>\n",
       "      <td>5</td>\n",
       "    </tr>\n",
       "  </tbody>\n",
       "</table>\n",
       "<p>952 rows × 9 columns</p>\n",
       "</div>"
      ]
     },
     "execution_count": 159,
     "metadata": {},
     "output_type": "execute_result"
    }
   ],
   "execution_count": 159
  },
  {
   "cell_type": "markdown",
   "id": "ecc478e2a1d90b16",
   "metadata": {},
   "source": [
    "### 3.3 Outlier-i\n",
    "\n",
    "Proveravamo outlier-e po kolonama jer i oni utiču na klasterizaciju\n",
    "Ako ima puno outlier-a (preko 10%), izbacujemo celu kolonu\n",
    "Ako nema puno outlier-a, radimo winsorize"
   ]
  },
  {
   "cell_type": "code",
   "id": "211d590b2e5451ac",
   "metadata": {
    "ExecuteTime": {
     "end_time": "2025-07-02T08:58:47.469570Z",
     "start_time": "2025-07-02T08:58:47.461721Z"
    }
   },
   "source": [
    "# Uvodimo pomoćnu funkciju draw_boxplot koja crta i prikazuje boxplot\n",
    "def draw_boxplot(podaci, naslov):\n",
    "    plt.boxplot(podaci)\n",
    "    plt.xlabel(naslov)\n",
    "    plt.show()"
   ],
   "outputs": [],
   "execution_count": 160
  },
  {
   "cell_type": "code",
   "id": "1cde3a49157a2d3c",
   "metadata": {
    "ExecuteTime": {
     "end_time": "2025-07-02T08:58:47.634925Z",
     "start_time": "2025-07-02T08:58:47.481483Z"
    }
   },
   "source": [
    "from scipy.stats.mstats import winsorize\n",
    "\n",
    "#Tražimo outliere, kolona \"in_spotify_playlists\"\n",
    "draw_boxplot(cl_data[\"in_spotify_playlists\"], \"in_spotify_playlists\")\n",
    "\n",
    "# ima outliere samo na gornjoj granici, winsorize u rasponu 0 - 90 ne otklanja sve outlier-e\n",
    "winsorized_data = winsorize(cl_data[\"in_spotify_playlists\"], limits=[0.00, 0.10])\n",
    "draw_boxplot(winsorized_data, \"Winsorized in_spotify_playlists\")\n",
    "plt.show()\n",
    "\n",
    "#Zaključak je da više od 10% vrednosti ove promenljive čine outlier-i i treba je izbaciti iz dataset-a\n",
    "cl_data.drop(columns = [\"in_spotify_playlists\"], inplace = True)"
   ],
   "outputs": [
    {
     "data": {
      "text/plain": [
       "<Figure size 640x480 with 1 Axes>"
      ],
      "image/png": "[encoded data removed]"
     },
     "metadata": {},
     "output_type": "display_data"
    },
    {
     "data": {
      "text/plain": [
       "<Figure size 640x480 with 1 Axes>"
      ],
      "image/png": "[encoded data removed]"
     },
     "metadata": {},
     "output_type": "display_data"
    }
   ],
   "execution_count": 161
  },
  {
   "cell_type": "code",
   "id": "59d23365685ec55e",
   "metadata": {
    "ExecuteTime": {
     "end_time": "2025-07-02T08:58:47.804105Z",
     "start_time": "2025-07-02T08:58:47.650600Z"
    }
   },
   "source": [
    "#Tražimo outliere, kolona \"released_year\"\n",
    "draw_boxplot(cl_data[\"released_year\"], \"released_year\")\n",
    "\n",
    "# ima outliere samo na donjoj granici, winsorize u rasponu 10 - 100 ne otklanja sve outlier-e\n",
    "winsorized_data = winsorize(cl_data[\"released_year\"], limits=[0.10, 0.00])\n",
    "draw_boxplot(winsorized_data, \"Winsorized released_year\")\n",
    "\n",
    "#Zaključak je da više od 10% vrednosti ove promenljive čine outlier-i i treba je izbaciti iz dataset-a\n",
    "cl_data.drop(columns = [\"released_year\"], inplace = True)"
   ],
   "outputs": [
    {
     "data": {
      "text/plain": [
       "<Figure size 640x480 with 1 Axes>"
      ],
      "image/png": "[encoded data removed]"
     },
     "metadata": {},
     "output_type": "display_data"
    },
    {
     "data": {
      "text/plain": [
       "<Figure size 640x480 with 1 Axes>"
      ],
      "image/png": "[encoded data removed]"
     },
     "metadata": {},
     "output_type": "display_data"
    }
   ],
   "execution_count": 162
  },
  {
   "cell_type": "code",
   "id": "d1cbd57da38d0b49",
   "metadata": {
    "ExecuteTime": {
     "end_time": "2025-07-02T08:58:47.918559Z",
     "start_time": "2025-07-02T08:58:47.834312Z"
    }
   },
   "source": [
    "#Tražimo outliere, kolona \"in_spotify_charts\"\n",
    "draw_boxplot(cl_data[\"in_spotify_charts\"], \"in_spotify_charts\")\n",
    "\n",
    "# Zaključak je da nema outlier-e i da ništa ne treba menjati u ovoj koloni"
   ],
   "outputs": [
    {
     "data": {
      "text/plain": [
       "<Figure size 640x480 with 1 Axes>"
      ],
      "image/png": "[encoded data removed]"
     },
     "metadata": {},
     "output_type": "display_data"
    }
   ],
   "execution_count": 163
  },
  {
   "cell_type": "code",
   "id": "774323fc98a1761d",
   "metadata": {
    "ExecuteTime": {
     "end_time": "2025-07-02T08:58:48.091124Z",
     "start_time": "2025-07-02T08:58:47.934336Z"
    }
   },
   "source": [
    "#Tražimo outliere, kolona \"in_apple_charts\"\n",
    "draw_boxplot(cl_data[\"in_apple_charts\"], \"in_apple_charts\")\n",
    "\n",
    "# ima outliere samo na gornjoj granici, winsorize u rasponu 0 - 90 NE otklanja sve outlier-e\n",
    "winsorized_data = winsorize(cl_data[\"in_apple_charts\"], limits=[0.00, 0.10])\n",
    "draw_boxplot(winsorized_data, \"Winsorized in_apple_charts 0-90\")\n",
    "\n",
    "#Zaključak je da više od 10% vrednosti ove primenljive čine outlier-i i treba je izbaciti iz dataset-a\n",
    "cl_data.drop(columns = [\"in_apple_charts\"], inplace = True)"
   ],
   "outputs": [
    {
     "data": {
      "text/plain": [
       "<Figure size 640x480 with 1 Axes>"
      ],
      "image/png": "[encoded data removed]"
     },
     "metadata": {},
     "output_type": "display_data"
    },
    {
     "data": {
      "text/plain": [
       "<Figure size 640x480 with 1 Axes>"
      ],
      "image/png": "[encoded data removed]"
     },
     "metadata": {},
     "output_type": "display_data"
    }
   ],
   "execution_count": 164
  },
  {
   "cell_type": "code",
   "id": "f2c65789e79e5ed3",
   "metadata": {
    "ExecuteTime": {
     "end_time": "2025-07-02T08:58:48.294818Z",
     "start_time": "2025-07-02T08:58:48.122420Z"
    }
   },
   "source": [
    "#Tražimo outliere, kolona \"bpm\"\n",
    "draw_boxplot(cl_data[\"bpm\"], \"bpm\")\n",
    "\n",
    "# ima outliere samo na gornjoj granici, winsorize u rasponu 0 - 98 otklanja sve outlier-e\n",
    "winsorized_data = winsorize(cl_data[\"bpm\"], limits=[0.00, 0.02])\n",
    "draw_boxplot(winsorized_data, \"Winsorized bpm 0-98\")\n",
    "\n",
    "#Zaključak je da manje od 2% vrednosti ove primenljive čine outlier-i i treba te vrednosti zameniti winsorize vrednostima\n",
    "cl_data[\"bpm\"] = winsorized_data"
   ],
   "outputs": [
    {
     "data": {
      "text/plain": [
       "<Figure size 640x480 with 1 Axes>"
      ],
      "image/png": "[encoded data removed]"
     },
     "metadata": {},
     "output_type": "display_data"
    },
    {
     "data": {
      "text/plain": [
       "<Figure size 640x480 with 1 Axes>"
      ],
      "image/png": "[encoded data removed]"
     },
     "metadata": {},
     "output_type": "display_data"
    }
   ],
   "execution_count": 165
  },
  {
   "cell_type": "code",
   "id": "d81443a5f4408694",
   "metadata": {
    "ExecuteTime": {
     "end_time": "2025-07-02T08:58:48.479792Z",
     "start_time": "2025-07-02T08:58:48.310449Z"
    }
   },
   "source": [
    "#Tražimo outliere, kolona \"energy\"\n",
    "draw_boxplot(cl_data[\"energy\"], \"energy\")\n",
    "\n",
    "# ima outliere samo na donjoj granici, winsorize u rasponu 1 - 100 otklanja sve outlier-e\n",
    "winsorized_data = winsorize(cl_data[\"energy\"], limits=[0.01, 0.00])\n",
    "draw_boxplot(winsorized_data, \"Winsorized energy 1-100\")\n",
    "\n",
    "#Zaključak je da manje od 1% vrednosti ove primenljive čine outlier-i i treba te vrednosti zameniti winsorize vrednostima\n",
    "cl_data[\"energy\"] = winsorized_data"
   ],
   "outputs": [
    {
     "data": {
      "text/plain": [
       "<Figure size 640x480 with 1 Axes>"
      ],
      "image/png": "[encoded data removed]"
     },
     "metadata": {},
     "output_type": "display_data"
    },
    {
     "data": {
      "text/plain": [
       "<Figure size 640x480 with 1 Axes>"
      ],
      "image/png": "[encoded data removed]"
     },
     "metadata": {},
     "output_type": "display_data"
    }
   ],
   "execution_count": 166
  },
  {
   "cell_type": "code",
   "id": "4e729282c7366270",
   "metadata": {
    "ExecuteTime": {
     "end_time": "2025-07-02T08:58:48.630077Z",
     "start_time": "2025-07-02T08:58:48.495422Z"
    }
   },
   "source": [
    "#Tražimo outliere, kolona \"liveness\"\n",
    "draw_boxplot(cl_data[\"liveness\"], \"liveness\")\n",
    "\n",
    "# ima outliere samo na gornjoj granici, winsorize u rasponu 0 - 95 otklanja sve outlier-e\n",
    "winsorized_data = winsorize(cl_data[\"liveness\"], limits=[0.00, 0.05])\n",
    "draw_boxplot(winsorized_data, \"Winsorized liveness 0-95\")\n",
    "\n",
    "#Zaključak je da manje od 5% vrednosti ove primenljive čine outlier-i i treba te vrednosti zameniti winsorize vrednostima\n",
    "cl_data[\"liveness\"] = winsorized_data"
   ],
   "outputs": [
    {
     "data": {
      "text/plain": [
       "<Figure size 640x480 with 1 Axes>"
      ],
      "image/png": "[encoded data removed]"
     },
     "metadata": {},
     "output_type": "display_data"
    },
    {
     "data": {
      "text/plain": [
       "<Figure size 640x480 with 1 Axes>"
      ],
      "image/png": "[encoded data removed]"
     },
     "metadata": {},
     "output_type": "display_data"
    }
   ],
   "execution_count": 167
  },
  {
   "cell_type": "code",
   "id": "bd3347af9b379f29",
   "metadata": {
    "ExecuteTime": {
     "end_time": "2025-07-02T08:58:48.809612Z",
     "start_time": "2025-07-02T08:58:48.634617Z"
    }
   },
   "source": [
    "#Tražimo outliere, kolona \"speechiness\"\n",
    "draw_boxplot(cl_data[\"speechiness\"], \"speechiness\")\n",
    "\n",
    "# ima outliere samo na gornjoj granici, winsorize u rasponu 0 - 90 NE otklanja sve outlier-e\n",
    "winsorized_data = winsorize(cl_data[\"speechiness\"], limits=[0.00, 0.10])\n",
    "draw_boxplot(winsorized_data, \"Winsorized speechiness 0-90\")\n",
    "\n",
    "#Zaključak je da više od 10% vrednosti ove primenljive čine outlier-i i treba je izbaciti iz dataset-a\n",
    "cl_data.drop(columns = [\"speechiness\"], inplace = True)"
   ],
   "outputs": [
    {
     "data": {
      "text/plain": [
       "<Figure size 640x480 with 1 Axes>"
      ],
      "image/png": "[encoded data removed]"
     },
     "metadata": {},
     "output_type": "display_data"
    },
    {
     "data": {
      "text/plain": [
       "<Figure size 640x480 with 1 Axes>"
      ],
      "image/png": "[encoded data removed]"
     },
     "metadata": {},
     "output_type": "display_data"
    }
   ],
   "execution_count": 168
  },
  {
   "cell_type": "code",
   "id": "5b871e8ec5e206ba",
   "metadata": {
    "ExecuteTime": {
     "end_time": "2025-07-02T08:58:48.850511Z",
     "start_time": "2025-07-02T08:58:48.825376Z"
    }
   },
   "source": [
    "# Posle izbacivanja NA vrednosti, sređivanja i izbacivanja promenljivih sa korelacijama i outlier-ima, ostaje ovo\n",
    "cl_data.describe()\n",
    "# Pet promenljivih dolazi u obzir za klasterizaciju"
   ],
   "outputs": [
    {
     "data": {
      "text/plain": [
       "       in_spotify_charts         bpm        mode      energy    liveness\n",
       "count         952.000000  952.000000  952.000000  952.000000  952.000000\n",
       "mean           74.398109  122.316176    0.422269   64.359244   17.460084\n",
       "std            64.622987   27.490861    0.494181   16.380695   11.231925\n",
       "min             1.000000   65.000000    0.000000   24.000000    3.000000\n",
       "25%            11.000000   99.750000    0.000000   53.000000   10.000000\n",
       "50%            42.000000  121.000000    0.000000   66.000000   12.000000\n",
       "75%           147.000000  140.250000    1.000000   77.000000   24.000000\n",
       "max           147.000000  180.000000    1.000000   97.000000   45.000000"
      ],
      "text/html": [
       "<div>\n",
       "<style scoped>\n",
       "    .dataframe tbody tr th:only-of-type {\n",
       "        vertical-align: middle;\n",
       "    }\n",
       "\n",
       "    .dataframe tbody tr th {\n",
       "        vertical-align: top;\n",
       "    }\n",
       "\n",
       "    .dataframe thead th {\n",
       "        text-align: right;\n",
       "    }\n",
       "</style>\n",
       "<table border=\"1\" class=\"dataframe\">\n",
       "  <thead>\n",
       "    <tr style=\"text-align: right;\">\n",
       "      <th></th>\n",
       "      <th>in_spotify_charts</th>\n",
       "      <th>bpm</th>\n",
       "      <th>mode</th>\n",
       "      <th>energy</th>\n",
       "      <th>liveness</th>\n",
       "    </tr>\n",
       "  </thead>\n",
       "  <tbody>\n",
       "    <tr>\n",
       "      <th>count</th>\n",
       "      <td>952.000000</td>\n",
       "      <td>952.000000</td>\n",
       "      <td>952.000000</td>\n",
       "      <td>952.000000</td>\n",
       "      <td>952.000000</td>\n",
       "    </tr>\n",
       "    <tr>\n",
       "      <th>mean</th>\n",
       "      <td>74.398109</td>\n",
       "      <td>122.316176</td>\n",
       "      <td>0.422269</td>\n",
       "      <td>64.359244</td>\n",
       "      <td>17.460084</td>\n",
       "    </tr>\n",
       "    <tr>\n",
       "      <th>std</th>\n",
       "      <td>64.622987</td>\n",
       "      <td>27.490861</td>\n",
       "      <td>0.494181</td>\n",
       "      <td>16.380695</td>\n",
       "      <td>11.231925</td>\n",
       "    </tr>\n",
       "    <tr>\n",
       "      <th>min</th>\n",
       "      <td>1.000000</td>\n",
       "      <td>65.000000</td>\n",
       "      <td>0.000000</td>\n",
       "      <td>24.000000</td>\n",
       "      <td>3.000000</td>\n",
       "    </tr>\n",
       "    <tr>\n",
       "      <th>25%</th>\n",
       "      <td>11.000000</td>\n",
       "      <td>99.750000</td>\n",
       "      <td>0.000000</td>\n",
       "      <td>53.000000</td>\n",
       "      <td>10.000000</td>\n",
       "    </tr>\n",
       "    <tr>\n",
       "      <th>50%</th>\n",
       "      <td>42.000000</td>\n",
       "      <td>121.000000</td>\n",
       "      <td>0.000000</td>\n",
       "      <td>66.000000</td>\n",
       "      <td>12.000000</td>\n",
       "    </tr>\n",
       "    <tr>\n",
       "      <th>75%</th>\n",
       "      <td>147.000000</td>\n",
       "      <td>140.250000</td>\n",
       "      <td>1.000000</td>\n",
       "      <td>77.000000</td>\n",
       "      <td>24.000000</td>\n",
       "    </tr>\n",
       "    <tr>\n",
       "      <th>max</th>\n",
       "      <td>147.000000</td>\n",
       "      <td>180.000000</td>\n",
       "      <td>1.000000</td>\n",
       "      <td>97.000000</td>\n",
       "      <td>45.000000</td>\n",
       "    </tr>\n",
       "  </tbody>\n",
       "</table>\n",
       "</div>"
      ]
     },
     "execution_count": 169,
     "metadata": {},
     "output_type": "execute_result"
    }
   ],
   "execution_count": 169
  },
  {
   "cell_type": "markdown",
   "id": "3f15efd695216e56",
   "metadata": {},
   "source": [
    "### 3.4 Skaliranje (normalizacija)"
   ]
  },
  {
   "cell_type": "code",
   "id": "adec4b15bf4fcc29",
   "metadata": {
    "ExecuteTime": {
     "end_time": "2025-07-02T08:58:48.911454Z",
     "start_time": "2025-07-02T08:58:48.885378Z"
    }
   },
   "source": [
    "from sklearn.preprocessing import MinMaxScaler\n",
    "\n",
    "# Promenljive su u veoma različitim rasponima, potrebna je normalizacija na skalu 0-1\n",
    "# Koristimo MinMaxScaler koji vraća numpy array koji pretvaramo nazad u DataFrame\n",
    "temp_data = MinMaxScaler().fit_transform(cl_data)\n",
    "cl_data_scaled = pd.DataFrame(temp_data, columns = cl_data.columns)\n",
    "\n",
    "# Proveravamo da li je sve skalirano kako treba (raspon od 0 do 1)\n",
    "cl_data_scaled.describe()"
   ],
   "outputs": [
    {
     "data": {
      "text/plain": [
       "       in_spotify_charts         bpm        mode      energy    liveness\n",
       "count         952.000000  952.000000  952.000000  952.000000  952.000000\n",
       "mean            0.502727    0.498402    0.422269    0.552866    0.344288\n",
       "std             0.442623    0.239051    0.494181    0.224393    0.267427\n",
       "min             0.000000    0.000000    0.000000    0.000000    0.000000\n",
       "25%             0.068493    0.302174    0.000000    0.397260    0.166667\n",
       "50%             0.280822    0.486957    0.000000    0.575342    0.214286\n",
       "75%             1.000000    0.654348    1.000000    0.726027    0.500000\n",
       "max             1.000000    1.000000    1.000000    1.000000    1.000000"
      ],
      "text/html": [
       "<div>\n",
       "<style scoped>\n",
       "    .dataframe tbody tr th:only-of-type {\n",
       "        vertical-align: middle;\n",
       "    }\n",
       "\n",
       "    .dataframe tbody tr th {\n",
       "        vertical-align: top;\n",
       "    }\n",
       "\n",
       "    .dataframe thead th {\n",
       "        text-align: right;\n",
       "    }\n",
       "</style>\n",
       "<table border=\"1\" class=\"dataframe\">\n",
       "  <thead>\n",
       "    <tr style=\"text-align: right;\">\n",
       "      <th></th>\n",
       "      <th>in_spotify_charts</th>\n",
       "      <th>bpm</th>\n",
       "      <th>mode</th>\n",
       "      <th>energy</th>\n",
       "      <th>liveness</th>\n",
       "    </tr>\n",
       "  </thead>\n",
       "  <tbody>\n",
       "    <tr>\n",
       "      <th>count</th>\n",
       "      <td>952.000000</td>\n",
       "      <td>952.000000</td>\n",
       "      <td>952.000000</td>\n",
       "      <td>952.000000</td>\n",
       "      <td>952.000000</td>\n",
       "    </tr>\n",
       "    <tr>\n",
       "      <th>mean</th>\n",
       "      <td>0.502727</td>\n",
       "      <td>0.498402</td>\n",
       "      <td>0.422269</td>\n",
       "      <td>0.552866</td>\n",
       "      <td>0.344288</td>\n",
       "    </tr>\n",
       "    <tr>\n",
       "      <th>std</th>\n",
       "      <td>0.442623</td>\n",
       "      <td>0.239051</td>\n",
       "      <td>0.494181</td>\n",
       "      <td>0.224393</td>\n",
       "      <td>0.267427</td>\n",
       "    </tr>\n",
       "    <tr>\n",
       "      <th>min</th>\n",
       "      <td>0.000000</td>\n",
       "      <td>0.000000</td>\n",
       "      <td>0.000000</td>\n",
       "      <td>0.000000</td>\n",
       "      <td>0.000000</td>\n",
       "    </tr>\n",
       "    <tr>\n",
       "      <th>25%</th>\n",
       "      <td>0.068493</td>\n",
       "      <td>0.302174</td>\n",
       "      <td>0.000000</td>\n",
       "      <td>0.397260</td>\n",
       "      <td>0.166667</td>\n",
       "    </tr>\n",
       "    <tr>\n",
       "      <th>50%</th>\n",
       "      <td>0.280822</td>\n",
       "      <td>0.486957</td>\n",
       "      <td>0.000000</td>\n",
       "      <td>0.575342</td>\n",
       "      <td>0.214286</td>\n",
       "    </tr>\n",
       "    <tr>\n",
       "      <th>75%</th>\n",
       "      <td>1.000000</td>\n",
       "      <td>0.654348</td>\n",
       "      <td>1.000000</td>\n",
       "      <td>0.726027</td>\n",
       "      <td>0.500000</td>\n",
       "    </tr>\n",
       "    <tr>\n",
       "      <th>max</th>\n",
       "      <td>1.000000</td>\n",
       "      <td>1.000000</td>\n",
       "      <td>1.000000</td>\n",
       "      <td>1.000000</td>\n",
       "      <td>1.000000</td>\n",
       "    </tr>\n",
       "  </tbody>\n",
       "</table>\n",
       "</div>"
      ]
     },
     "execution_count": 170,
     "metadata": {},
     "output_type": "execute_result"
    }
   ],
   "execution_count": 170
  },
  {
   "cell_type": "markdown",
   "id": "97abe9ffd2dda7fa",
   "metadata": {},
   "source": [
    "## 4. Primenom Elbow metode utvrditi najbolju vrednost za broj klastera (k)"
   ]
  },
  {
   "cell_type": "code",
   "id": "66da094297407c54",
   "metadata": {
    "ExecuteTime": {
     "end_time": "2025-07-02T08:59:02.350242Z",
     "start_time": "2025-07-02T08:58:48.931888Z"
    }
   },
   "source": [
    "#Primena elbow metode\n",
    "wcss = []\n",
    "\n",
    "# Probamo od 1 do 10 klastera\n",
    "for i in range(1, 11):\n",
    "    kmeans = cluster.KMeans(n_clusters=i, init='k-means++', max_iter=100, n_init=1000, random_state=0).fit(cl_data_scaled)\n",
    "    wcss.append(kmeans.inertia_)\n",
    "\n",
    "plt.plot(range(1, 11), wcss)\n",
    "plt.xlabel(\"Broj klastera (K)\")\n",
    "plt.ylabel(\"WCSS greška\")\n",
    "plt.show()\n",
    "\n",
    "wcss\n",
    "# \"Lakat\" se pojavljuje kod 2 klastera i kod 4 klastera (drugi \"lakat\")."
   ],
   "outputs": [
    {
     "data": {
      "text/plain": [
       "<Figure size 640x480 with 1 Axes>"
      ],
      "image/png": "[encoded data removed]"
     },
     "metadata": {},
     "output_type": "display_data"
    },
    {
     "data": {
      "text/plain": [
       "[588.8063314692282,\n",
       " 356.359554172358,\n",
       " 251.51174616186609,\n",
       " 177.65990678004803,\n",
       " 159.39237384561426,\n",
       " 145.52468480083306,\n",
       " 133.33486488019446,\n",
       " 121.71755001650003,\n",
       " 111.83126557085683,\n",
       " 103.62406324522092]"
      ]
     },
     "execution_count": 171,
     "metadata": {},
     "output_type": "execute_result"
    }
   ],
   "execution_count": 171
  },
  {
   "cell_type": "markdown",
   "id": "1deb02a8aaea0c8d",
   "metadata": {},
   "source": [
    "## 5. Izvršiti klasterizaciju za izabranu (tj. utvrđenu najbolju) vrednost za k"
   ]
  },
  {
   "cell_type": "code",
   "id": "cc446cdd242ea17c",
   "metadata": {
    "ExecuteTime": {
     "end_time": "2025-07-02T08:59:02.893140Z",
     "start_time": "2025-07-02T08:59:02.350242Z"
    }
   },
   "source": [
    "# Radimo KMeans klasterizaciju sa dva klastera i kmeans++ metodom za inicijalizaciju težišta\n",
    "kmeans = cluster.KMeans(n_clusters=2, init='k-means++', max_iter=100, n_init=1000, random_state=0)\n",
    "kmeans.fit(cl_data_scaled)\n",
    "\n",
    "# U dataset u kojem se nalaze skalirani podaci\n",
    "# dodajemo novu kolonu sa oznakama koja instanca\n",
    "# pripada kojem klasteru\n",
    "cl_data_scaled[\"cluster\"] = kmeans.labels_"
   ],
   "outputs": [],
   "execution_count": 172
  },
  {
   "cell_type": "code",
   "id": "8365f69cfdb4289d",
   "metadata": {
    "ExecuteTime": {
     "end_time": "2025-07-02T08:59:02.911237Z",
     "start_time": "2025-07-02T08:59:02.893140Z"
    }
   },
   "source": [
    "cl_data_scaled"
   ],
   "outputs": [
    {
     "data": {
      "text/plain": [
       "     in_spotify_charts       bpm  mode    energy  liveness  cluster\n",
       "0             1.000000  0.521739   0.0  0.808219  0.119048        1\n",
       "1             0.321918  0.234783   0.0  0.684932  0.166667        1\n",
       "2             0.767123  0.634783   0.0  0.397260  0.666667        1\n",
       "3             0.013699  0.913043   0.0  0.657534  0.190476        1\n",
       "4             0.335616  0.686957   1.0  0.767123  0.190476        0\n",
       "..                 ...       ...   ...       ...       ...      ...\n",
       "947           1.000000  0.686957   0.0  0.205479  0.119048        1\n",
       "948           1.000000  0.878261   0.0  0.000000  0.214286        1\n",
       "949           1.000000  0.234783   0.0  0.589041  0.119048        1\n",
       "950           1.000000  0.278261   0.0  0.726027  0.214286        1\n",
       "951           0.006849  0.217391   1.0  0.589041  0.190476        0\n",
       "\n",
       "[952 rows x 6 columns]"
      ],
      "text/html": [
       "<div>\n",
       "<style scoped>\n",
       "    .dataframe tbody tr th:only-of-type {\n",
       "        vertical-align: middle;\n",
       "    }\n",
       "\n",
       "    .dataframe tbody tr th {\n",
       "        vertical-align: top;\n",
       "    }\n",
       "\n",
       "    .dataframe thead th {\n",
       "        text-align: right;\n",
       "    }\n",
       "</style>\n",
       "<table border=\"1\" class=\"dataframe\">\n",
       "  <thead>\n",
       "    <tr style=\"text-align: right;\">\n",
       "      <th></th>\n",
       "      <th>in_spotify_charts</th>\n",
       "      <th>bpm</th>\n",
       "      <th>mode</th>\n",
       "      <th>energy</th>\n",
       "      <th>liveness</th>\n",
       "      <th>cluster</th>\n",
       "    </tr>\n",
       "  </thead>\n",
       "  <tbody>\n",
       "    <tr>\n",
       "      <th>0</th>\n",
       "      <td>1.000000</td>\n",
       "      <td>0.521739</td>\n",
       "      <td>0.0</td>\n",
       "      <td>0.808219</td>\n",
       "      <td>0.119048</td>\n",
       "      <td>1</td>\n",
       "    </tr>\n",
       "    <tr>\n",
       "      <th>1</th>\n",
       "      <td>0.321918</td>\n",
       "      <td>0.234783</td>\n",
       "      <td>0.0</td>\n",
       "      <td>0.684932</td>\n",
       "      <td>0.166667</td>\n",
       "      <td>1</td>\n",
       "    </tr>\n",
       "    <tr>\n",
       "      <th>2</th>\n",
       "      <td>0.767123</td>\n",
       "      <td>0.634783</td>\n",
       "      <td>0.0</td>\n",
       "      <td>0.397260</td>\n",
       "      <td>0.666667</td>\n",
       "      <td>1</td>\n",
       "    </tr>\n",
       "    <tr>\n",
       "      <th>3</th>\n",
       "      <td>0.013699</td>\n",
       "      <td>0.913043</td>\n",
       "      <td>0.0</td>\n",
       "      <td>0.657534</td>\n",
       "      <td>0.190476</td>\n",
       "      <td>1</td>\n",
       "    </tr>\n",
       "    <tr>\n",
       "      <th>4</th>\n",
       "      <td>0.335616</td>\n",
       "      <td>0.686957</td>\n",
       "      <td>1.0</td>\n",
       "      <td>0.767123</td>\n",
       "      <td>0.190476</td>\n",
       "      <td>0</td>\n",
       "    </tr>\n",
       "    <tr>\n",
       "      <th>...</th>\n",
       "      <td>...</td>\n",
       "      <td>...</td>\n",
       "      <td>...</td>\n",
       "      <td>...</td>\n",
       "      <td>...</td>\n",
       "      <td>...</td>\n",
       "    </tr>\n",
       "    <tr>\n",
       "      <th>947</th>\n",
       "      <td>1.000000</td>\n",
       "      <td>0.686957</td>\n",
       "      <td>0.0</td>\n",
       "      <td>0.205479</td>\n",
       "      <td>0.119048</td>\n",
       "      <td>1</td>\n",
       "    </tr>\n",
       "    <tr>\n",
       "      <th>948</th>\n",
       "      <td>1.000000</td>\n",
       "      <td>0.878261</td>\n",
       "      <td>0.0</td>\n",
       "      <td>0.000000</td>\n",
       "      <td>0.214286</td>\n",
       "      <td>1</td>\n",
       "    </tr>\n",
       "    <tr>\n",
       "      <th>949</th>\n",
       "      <td>1.000000</td>\n",
       "      <td>0.234783</td>\n",
       "      <td>0.0</td>\n",
       "      <td>0.589041</td>\n",
       "      <td>0.119048</td>\n",
       "      <td>1</td>\n",
       "    </tr>\n",
       "    <tr>\n",
       "      <th>950</th>\n",
       "      <td>1.000000</td>\n",
       "      <td>0.278261</td>\n",
       "      <td>0.0</td>\n",
       "      <td>0.726027</td>\n",
       "      <td>0.214286</td>\n",
       "      <td>1</td>\n",
       "    </tr>\n",
       "    <tr>\n",
       "      <th>951</th>\n",
       "      <td>0.006849</td>\n",
       "      <td>0.217391</td>\n",
       "      <td>1.0</td>\n",
       "      <td>0.589041</td>\n",
       "      <td>0.190476</td>\n",
       "      <td>0</td>\n",
       "    </tr>\n",
       "  </tbody>\n",
       "</table>\n",
       "<p>952 rows × 6 columns</p>\n",
       "</div>"
      ]
     },
     "execution_count": 173,
     "metadata": {},
     "output_type": "execute_result"
    }
   ],
   "execution_count": 173
  },
  {
   "cell_type": "markdown",
   "id": "c19fc7028540514e",
   "metadata": {},
   "source": [
    "## 6. Interpretirati dobijene klastere (grupisane pesme) na osnovu: broja pesama, centara klastera, disperzije od centra"
   ]
  },
  {
   "cell_type": "code",
   "id": "9c1f111344663b7f",
   "metadata": {
    "ExecuteTime": {
     "end_time": "2025-07-02T08:59:03.078279Z",
     "start_time": "2025-07-02T08:59:02.919514Z"
    }
   },
   "source": [
    "# Iscrtamo i uporedne boxplot-ove za ova dva klastera da bi ih uporedili u smislu sadržaja\n",
    "fig, ax = plt.subplots(1,2)\n",
    "\n",
    "ax[0].boxplot(cl_data_scaled[cl_data_scaled[\"cluster\"]==0].drop(columns = \"cluster\"), tick_labels=(\"sc\", \"bpm\", \"mod\", \"enr\", \"liv\"))\n",
    "ax[0].set_xlabel(\"Klaster 1\")\n",
    "\n",
    "ax[1].boxplot(cl_data_scaled[cl_data_scaled[\"cluster\"]==1].drop(columns = \"cluster\"), tick_labels=(\"sc\", \"bpm\", \"mod\", \"enr\", \"liv\"))\n",
    "ax[1].set_xlabel(\"Klaster 2\")\n",
    "\n",
    "plt.show()\n",
    "\n",
    "print(\"Klaster 1, N = \", cl_data_scaled.loc[cl_data_scaled[\"cluster\"]==0, \"cluster\"].count())\n",
    "print(\"Klaster 2, N = \", cl_data_scaled.loc[cl_data_scaled[\"cluster\"]==1, \"cluster\"].count())"
   ],
   "outputs": [
    {
     "data": {
      "text/plain": [
       "<Figure size 640x480 with 2 Axes>"
      ],
      "image/png": "[encoded data removed]"
     },
     "metadata": {},
     "output_type": "display_data"
    },
    {
     "name": "stdout",
     "output_type": "stream",
     "text": [
      "Klaster 1, N =  402\n",
      "Klaster 2, N =  550\n"
     ]
    }
   ],
   "execution_count": 174
  },
  {
   "cell_type": "code",
   "id": "6487dbec70d6b9e5",
   "metadata": {
    "ExecuteTime": {
     "end_time": "2025-07-02T08:59:03.098554Z",
     "start_time": "2025-07-02T08:59:03.078279Z"
    }
   },
   "source": [
    "# Tumačenje\n",
    "\n",
    "# Veličina klastera\n",
    "# 1. Prvi klaster ima 402 pesme a drugi 550 pesama, oba su slične veličine.\n",
    "\n",
    "# 2. Centri klastera\n",
    "# U klasteru 1 se isključivo nalaze pesme u Minor modu (1) a u klasteru 2 pesme u Major modu (0). Druga, doduše\n",
    "# minimalna razlika je to da je energy nivo malo niži za pesme iz drugog klastera. Pitanje je da li je ovakva\n",
    "# klasterizacija naročito smislena jer su po svim ostalim karakteristikama pesme skoro iste u oba klastera.\n",
    "\n",
    "# 3. Disperzija od centara\n",
    "# Za oba klastera možemo da kažemo da su skoro iste homogenosti, jedina razlika je u kolonama energy i liveness\n",
    "# gde je klaster 1 malo homogeniji (manja disperzija). Međutim, disperzija je inače jako velika u oba\n",
    "# klastera, što opet znači da  bi možda trebalo probati sa klasterizacijom sa četiri klastera."
   ],
   "outputs": [],
   "execution_count": 175
  },
  {
   "cell_type": "markdown",
   "id": "a64f20034f063d01",
   "metadata": {},
   "source": [
    "# 5. Ponovna klasterizacija sa K = 4"
   ]
  },
  {
   "cell_type": "code",
   "id": "9579c5bb3583d8a0",
   "metadata": {
    "ExecuteTime": {
     "end_time": "2025-07-02T08:59:04.113950Z",
     "start_time": "2025-07-02T08:59:03.129814Z"
    }
   },
   "source": [
    "# Radimo KMeans klasterizaciju sa četiri klastera i kmeans++ metodom za inicijalizaciju težišta\n",
    "kmeans = cluster.KMeans(n_clusters=4, init='k-means++', max_iter=100, n_init=1000, random_state=0)\n",
    "kmeans.fit(cl_data_scaled)\n",
    "\n",
    "# U dataset u kojem se nalaze skalirani podaci\n",
    "# dodajemo novu kolonu sa oznakama koja instanca\n",
    "# pripada kojem klasteru\n",
    "cl_data_scaled[\"cluster\"] = kmeans.labels_"
   ],
   "outputs": [],
   "execution_count": 176
  },
  {
   "cell_type": "markdown",
   "id": "b637ab8410020dad",
   "metadata": {},
   "source": [
    "## 6. Ponovo interpretirati dobijene klastere za K = 4 na osnovu: broja pesama, centara klastera, disperzije od centra"
   ]
  },
  {
   "cell_type": "code",
   "id": "a4cff24e6250a39",
   "metadata": {
    "ExecuteTime": {
     "end_time": "2025-07-02T08:59:04.373186Z",
     "start_time": "2025-07-02T08:59:04.113950Z"
    }
   },
   "source": [
    "# Iscrtamo i uporedne boxplot-ove za ova četiri klastera da bi ih uporedili u smislu sadržaja\n",
    "fig, ax = plt.subplots(2,2)\n",
    "\n",
    "ax[0,0].boxplot(cl_data_scaled[cl_data_scaled[\"cluster\"]==0].drop(columns = ['cluster']), tick_labels=(\"sc\", \"bpm\", \"mod\", \"enr\", \"liv\"))\n",
    "ax[0,0].set_xlabel(\"Klaster 1\")\n",
    "\n",
    "ax[0,1].boxplot(cl_data_scaled[cl_data_scaled[\"cluster\"]==1].drop(columns = ['cluster']), tick_labels=(\"sc\", \"bpm\", \"mod\", \"enr\", \"liv\"))\n",
    "ax[0,1].set_xlabel(\"Klaster 2\")\n",
    "\n",
    "ax[1,0].boxplot(cl_data_scaled[cl_data_scaled[\"cluster\"]==2].drop(columns = ['cluster']), tick_labels=(\"sc\", \"bpm\", \"mod\", \"enr\", \"liv\"))\n",
    "ax[1,0].set_xlabel(\"Klaster 3\")\n",
    "\n",
    "ax[1,1].boxplot(cl_data_scaled[cl_data_scaled[\"cluster\"]==3].drop(columns = ['cluster']), tick_labels=(\"sc\", \"bpm\", \"mod\", \"enr\", \"liv\"))\n",
    "ax[1,1].set_xlabel(\"Klaster 4\")\n",
    "\n",
    "plt.show()\n",
    "\n",
    "print(\"Klaster 1, N = \", cl_data_scaled.loc[cl_data_scaled[\"cluster\"]==0, \"cluster\"].count())\n",
    "print(\"Klaster 2, N = \", cl_data_scaled.loc[cl_data_scaled[\"cluster\"]==1, \"cluster\"].count())\n",
    "print(\"Klaster 3, N = \", cl_data_scaled.loc[cl_data_scaled[\"cluster\"]==2, \"cluster\"].count())\n",
    "print(\"Klaster 4, N = \", cl_data_scaled.loc[cl_data_scaled[\"cluster\"]==3, \"cluster\"].count())"
   ],
   "outputs": [
    {
     "data": {
      "text/plain": [
       "<Figure size 640x480 with 4 Axes>"
      ],
      "image/png": "[encoded data removed]"
     },
     "metadata": {},
     "output_type": "display_data"
    },
    {
     "name": "stdout",
     "output_type": "stream",
     "text": [
      "Klaster 1, N =  173\n",
      "Klaster 2, N =  245\n",
      "Klaster 3, N =  305\n",
      "Klaster 4, N =  229\n"
     ]
    }
   ],
   "execution_count": 177
  },
  {
   "cell_type": "code",
   "id": "846ccb3e19e6b6f5",
   "metadata": {
    "ExecuteTime": {
     "end_time": "2025-07-02T08:59:04.389744Z",
     "start_time": "2025-07-02T08:59:04.382190Z"
    }
   },
   "source": [
    "# Tumačenje\n",
    "\n",
    "# Veličina klastera\n",
    "# 1. Prvi klaster ima 173 pesme, drugi 245, treći 305 i četvrti 229, svi su značajne veličine.\n",
    "\n",
    "# 2. Centri klastera\n",
    "# Klaster 1 sadrži pesme u Minor modu koje su loše rangirane na spotify top listi, dok klaster 2 sadrži\n",
    "# pesme u Major modu koje su takođe loše rangirane na spotify top listi.\n",
    "# Nasuprot tome, klasteri 3 i 4 sadrže pesme koje su dobro rangirane na spotify top listi u Major modu (klaster 3)\n",
    "# i Minor modu (klaster 4) respektivno.\n",
    "# Razlika između dva klastera sa \"dobro rangiranim\" pesmama i dva klastera sa \"loše rangiranim\" pesmama je samo u tome što dobro rangirane pesme (klasteri 3 i 4) imaju malo viši nivo energije (energy).\n",
    "\n",
    "# 3. Disperzija od centara\n",
    "# Za klastere 1 i 2 se može reći da su izuzetno homogeni u smislu disperzije od centra klastera po atributu\n",
    "# in_spotify_charts jer ih isključivo čine loše rangirane pesme, dok su u klasterima 3 i 4 sve ostale pesme sa te top liste, pa je homogenost po tom atributu mnogo manja (odnosno std veća).\n",
    "# Za klaster 4 važi da je homogeniji od ostalih po atributima energy i liveness.\n",
    "# Ne postoje bitne razlike u homogenosti između klastera po ostalim atributima."
   ],
   "outputs": [],
   "execution_count": 178
  }
 ],
 "metadata": {
  "kernelspec": {
   "display_name": "Python 3 (ipykernel)",
   "language": "python",
   "name": "python3"
  },
  "language_info": {
   "codemirror_mode": {
    "name": "ipython",
    "version": 3
   },
   "file_extension": ".py",
   "mimetype": "text/x-python",
   "name": "python",
   "nbconvert_exporter": "python",
   "pygments_lexer": "ipython3",
   "version": "3.12.8"
  }
 },
 "nbformat": 4,
 "nbformat_minor": 5
}
